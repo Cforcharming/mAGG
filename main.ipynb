{
 "cells": [
  {
   "cell_type": "markdown",
   "source": [
    "Copyright 2022 Hanwen Zhang\n",
    "\n",
    "Licensed under the Apache License, Version 2.0 (the \"License\");\n",
    "Unless required by applicable law or agreed to in writing, software.\n",
    "You may obtain a copy of the License at\n",
    "\n",
    "       http://www.apache.org/licenses/LICENSE-2.0\n",
    "\n",
    "Distributed under the License is distributed on an \"AS IS\" BASIS,\n",
    "WITHOUT WARRANTIES OR CONDITIONS OF ANY KIND, either express or implied.\n",
    "See the License for the specific language governing permissions and\n",
    "limitations under the License."
   ],
   "metadata": {
    "collapsed": false,
    "pycharm": {
     "name": "#%% md\n"
    }
   }
  },
  {
   "cell_type": "markdown",
   "source": [
    "---\n",
    "### Initial Configurations"
   ],
   "metadata": {
    "collapsed": false,
    "pycharm": {
     "name": "#%% md\n"
    }
   }
  },
  {
   "cell_type": "code",
   "execution_count": null,
   "outputs": [],
   "source": [
    "import os\n",
    "import networkx as nx\n",
    "import multiprocessing as mp\n",
    "import matplotlib.pyplot as plt\n",
    "from concurrent.futures import ProcessPoolExecutor\n",
    "\n",
    "from layers.composed_graph_layer import ComposedGraphLayer\n",
    "from layers.vulnerability_layer import VulnerabilityLayer\n",
    "from layers.merged_graph_layer import MergedGraphLayer\n",
    "from layers.attack_graph_layer import AttackGraphLayer\n",
    "from layers.topology_layer import TopologyLayer\n",
    "from mio import wrapper\n",
    "\n",
    "argv=['', 'atsea']\n",
    "config, examples = wrapper.init(argv)\n",
    "\n",
    "concurrency = config['nums-of-processes']\n",
    "executor = None\n",
    "if concurrency > 0:\n",
    "    executor = ProcessPoolExecutor(concurrency, mp.get_context('forkserver'))\n",
    "\n",
    "attack_vectors = VulnerabilityLayer.get_attack_vectors(config[\"attack-vector-folder-path\"], executor)\n",
    "example_folder, result_folder = wrapper.create_folders(argv[1], config)\n",
    "\n",
    "times = 0"
   ],
   "metadata": {
    "collapsed": false,
    "pycharm": {
     "name": "#%%\n"
    }
   }
  },
  {
   "cell_type": "markdown",
   "source": [
    "---\n",
    "### Create topology layer"
   ],
   "metadata": {
    "collapsed": false,
    "pycharm": {
     "name": "#%% md\n"
    }
   }
  },
  {
   "cell_type": "code",
   "execution_count": null,
   "outputs": [],
   "source": [
    "topology_layer = TopologyLayer(example_folder)"
   ],
   "metadata": {
    "collapsed": false,
    "pycharm": {
     "name": "#%%\n"
    }
   }
  },
  {
   "cell_type": "markdown",
   "source": [
    "---\n",
    "### Create vulnerability layer"
   ],
   "metadata": {
    "collapsed": false,
    "pycharm": {
     "name": "#%% md\n"
    }
   }
  },
  {
   "cell_type": "code",
   "execution_count": null,
   "outputs": [],
   "source": [
    "vulnerability_layer = VulnerabilityLayer(topology_layer, config, attack_vectors)"
   ],
   "metadata": {
    "collapsed": false,
    "pycharm": {
     "name": "#%%\n"
    }
   }
  },
  {
   "cell_type": "markdown",
   "source": [
    "---\n",
    "### Getting the attack graphs for each network"
   ],
   "metadata": {
    "collapsed": false,
    "pycharm": {
     "name": "#%% md\n"
    }
   }
  },
  {
   "cell_type": "code",
   "execution_count": null,
   "outputs": [],
   "source": [
    "attack_graph_layer = AttackGraphLayer(vulnerability_layer, executor)"
   ],
   "metadata": {
    "collapsed": false,
    "pycharm": {
     "name": "#%%\n"
    }
   }
  },
  {
   "cell_type": "markdown",
   "source": [
    "---\n",
    "### Composing attack graphs"
   ],
   "metadata": {
    "collapsed": false,
    "pycharm": {
     "name": "#%% md\n"
    }
   }
  },
  {
   "cell_type": "code",
   "execution_count": null,
   "outputs": [],
   "source": [
    "composed_graph_layer = ComposedGraphLayer(attack_graph_layer)"
   ],
   "metadata": {
    "collapsed": false,
    "pycharm": {
     "name": "#%%\n"
    }
   }
  },
  {
   "cell_type": "markdown",
   "source": [
    "---\n",
    "### Merge attack graph nodes"
   ],
   "metadata": {
    "collapsed": false,
    "pycharm": {
     "name": "#%% md\n"
    }
   }
  },
  {
   "cell_type": "code",
   "execution_count": null,
   "outputs": [],
   "source": [
    "merged_graph_layer = MergedGraphLayer(composed_graph_layer)"
   ],
   "metadata": {
    "collapsed": false,
    "pycharm": {
     "name": "#%%\n"
    }
   }
  },
  {
   "cell_type": "markdown",
   "source": [
    "---\n",
    "### Print summaries"
   ],
   "metadata": {
    "collapsed": false,
    "pycharm": {
     "name": "#%% md\n"
    }
   }
  },
  {
   "cell_type": "code",
   "execution_count": null,
   "outputs": [],
   "source": [
    "wrapper.print_summary(merged_graph_layer)"
   ],
   "metadata": {
    "collapsed": false,
    "pycharm": {
     "name": "#%%\n"
    }
   }
  },
  {
   "cell_type": "markdown",
   "source": [
    "---\n",
    "### Change result folders"
   ],
   "metadata": {
    "collapsed": false,
    "pycharm": {
     "name": "#%% md\n"
    }
   }
  },
  {
   "cell_type": "code",
   "execution_count": null,
   "outputs": [],
   "source": [
    "times += 1"
   ],
   "metadata": {
    "collapsed": false,
    "pycharm": {
     "name": "#%%\n"
    }
   }
  },
  {
   "cell_type": "markdown",
   "source": [
    "---\n",
    "### draw topology graph"
   ],
   "metadata": {
    "collapsed": false,
    "pycharm": {
     "name": "#%% md\n"
    }
   }
  },
  {
   "cell_type": "code",
   "execution_count": null,
   "outputs": [],
   "source": [
    "plt.axis(\"off\")\n",
    "pos = nx.spring_layout(topology_layer.topology_graph)\n",
    "nx.draw_networkx_nodes(topology_layer.topology_graph, pos)\n",
    "nx.draw_networkx_edges(topology_layer.topology_graph, pos)\n",
    "nx.draw_networkx_labels(topology_layer.topology_graph, pos)\n",
    "plt.show()"
   ],
   "metadata": {
    "collapsed": false,
    "pycharm": {
     "name": "#%%\n"
    }
   }
  },
  {
   "cell_type": "markdown",
   "source": [
    "Save topology graph to file"
   ],
   "metadata": {
    "collapsed": false,
    "pycharm": {
     "name": "#%% md\n"
    }
   }
  },
  {
   "cell_type": "code",
   "execution_count": null,
   "outputs": [],
   "source": [
    "topology_graph_folder = os.path.join(result_folder, str(times))\n",
    "if not os.path.exists(topology_graph_folder):\n",
    "    os.makedirs(topology_graph_folder)\n",
    "topology_graph_path = os.path.join(topology_graph_folder, 'topology-graph.png')\n",
    "plt.savefig(topology_graph_path, transparent=True)"
   ],
   "metadata": {
    "collapsed": false,
    "pycharm": {
     "name": "#%%\n"
    }
   }
  },
  {
   "cell_type": "markdown",
   "source": [
    "---\n",
    "### draw gateway graph"
   ],
   "metadata": {
    "collapsed": false,
    "pycharm": {
     "name": "#%% md\n"
    }
   }
  },
  {
   "cell_type": "code",
   "execution_count": null,
   "outputs": [],
   "source": [
    "plt.axis(\"off\")\n",
    "pos = nx.spring_layout(topology_layer.gateway_graph)\n",
    "nx.draw_networkx_nodes(topology_layer.gateway_graph, pos)\n",
    "nx.draw_networkx_edges(topology_layer.gateway_graph, pos)\n",
    "nx.draw_networkx_labels(topology_layer.gateway_graph, pos)\n",
    "nx.draw_networkx_edge_labels(topology_layer.gateway_graph, pos, edge_labels=topology_layer.gateway_graph_labels)\n",
    "plt.show()"
   ],
   "metadata": {
    "collapsed": false,
    "pycharm": {
     "name": "#%%\n"
    }
   }
  },
  {
   "cell_type": "markdown",
   "source": [
    "Save gateway graph to file"
   ],
   "metadata": {
    "collapsed": false,
    "pycharm": {
     "name": "#%% md\n"
    }
   }
  },
  {
   "cell_type": "code",
   "execution_count": null,
   "outputs": [],
   "source": [
    "gateway_graph_folder = os.path.join(result_folder, str(times))\n",
    "if not os.path.exists(gateway_graph_folder):\n",
    "    os.makedirs(gateway_graph_folder)\n",
    "gateway_graph_path = os.path.join(gateway_graph_folder, 'gateway-graph.png')\n",
    "plt.savefig(gateway_graph_path, transparent=True)"
   ],
   "metadata": {
    "collapsed": false,
    "pycharm": {
     "name": "#%%\n"
    }
   }
  },
  {
   "cell_type": "markdown",
   "source": [
    "---\n",
    "### Draw composed graph"
   ],
   "metadata": {
    "collapsed": false,
    "pycharm": {
     "name": "#%% md\n"
    }
   }
  },
  {
   "cell_type": "code",
   "execution_count": null,
   "outputs": [],
   "source": [
    "plt.axis(\"off\")\n",
    "pos = nx.spring_layout(composed_graph_layer.composed_graph)\n",
    "nx.draw_networkx_nodes(composed_graph_layer.composed_graph, pos)\n",
    "nx.draw_networkx_edges(composed_graph_layer.composed_graph, pos)\n",
    "nx.draw_networkx_labels(composed_graph_layer.composed_graph, pos)\n",
    "nx.draw_networkx_edge_labels(composed_graph_layer.composed_graph, pos, edge_labels=composed_graph_layer.composed_labels)\n",
    "plt.show()"
   ],
   "metadata": {
    "collapsed": false,
    "pycharm": {
     "name": "#%%\n"
    }
   }
  },
  {
   "cell_type": "markdown",
   "source": [
    "Save attack graph to file"
   ],
   "metadata": {
    "collapsed": false,
    "pycharm": {
     "name": "#%% md\n"
    }
   }
  },
  {
   "cell_type": "code",
   "execution_count": null,
   "outputs": [],
   "source": [
    "composed_graph_folder = os.path.join(result_folder, str(times))\n",
    "if not os.path.exists(composed_graph_folder):\n",
    "    os.makedirs(composed_graph_folder)\n",
    "composed_graph_path = os.path.join(composed_graph_folder, 'composed-graph.png')\n",
    "plt.savefig(composed_graph_path, transparent=True)"
   ],
   "metadata": {
    "collapsed": false,
    "pycharm": {
     "name": "#%%\n"
    }
   }
  },
  {
   "cell_type": "markdown",
   "source": [
    "---\n",
    "### Draw sub graphs"
   ],
   "metadata": {
    "collapsed": false,
    "pycharm": {
     "name": "#%% md\n"
    }
   }
  },
  {
   "cell_type": "code",
   "execution_count": null,
   "outputs": [],
   "source": [
    "for network in attack_graph_layer.attack_graph:\n",
    "    sub_graph = attack_graph_layer.attack_graph[network]\n",
    "    sub_labels = attack_graph_layer.graph_labels[network]\n",
    "    plt.axis(\"off\")\n",
    "    pos = nx.spring_layout(sub_graph)\n",
    "    nx.draw_networkx_nodes(sub_graph, pos)\n",
    "    nx.draw_networkx_edges(sub_graph, pos)\n",
    "    nx.draw_networkx_labels(sub_graph, pos)\n",
    "    nx.draw_networkx_edge_labels(sub_graph, pos, edge_labels=sub_labels)\n",
    "    plt.show()"
   ],
   "metadata": {
    "collapsed": false,
    "pycharm": {
     "name": "#%%\n"
    }
   }
  },
  {
   "cell_type": "markdown",
   "source": [
    "---\n",
    "### Draw merged graph"
   ],
   "metadata": {
    "collapsed": false,
    "pycharm": {
     "name": "#%% md\n"
    }
   }
  },
  {
   "cell_type": "code",
   "execution_count": null,
   "outputs": [],
   "source": [
    "merged_graph_layer.merged_graph.add_edge('payment-db', 'payment_gateway')"
   ],
   "metadata": {
    "collapsed": false,
    "pycharm": {
     "name": "#%%\n"
    }
   }
  },
  {
   "cell_type": "code",
   "execution_count": null,
   "outputs": [],
   "source": [
    "plt.axis(\"off\")\n",
    "pos = nx.spring_layout(merged_graph_layer.merged_graph)\n",
    "nx.draw_networkx_nodes(merged_graph_layer.merged_graph, pos)\n",
    "nx.draw_networkx_labels(merged_graph_layer.merged_graph, pos)\n",
    "edge_labels = nx.get_edge_attributes(merged_graph_layer.merged_graph, 'probability')\n",
    "nx.draw(merged_graph_layer.merged_graph, pos, connectionstyle='arc3, rad=0.1')\n",
    "plt.show()"
   ],
   "metadata": {
    "collapsed": false,
    "pycharm": {
     "name": "#%%\n"
    }
   }
  },
  {
   "cell_type": "markdown",
   "source": [
    "save merged graph"
   ],
   "metadata": {
    "collapsed": false,
    "pycharm": {
     "name": "#%% md\n"
    }
   }
  },
  {
   "cell_type": "code",
   "execution_count": null,
   "outputs": [],
   "source": [
    "merged_graph_folder = os.path.join(result_folder, str(times))\n",
    "if not os.path.exists(merged_graph_folder):\n",
    "        os.makedirs(merged_graph_folder)\n",
    "merged_graph_path = os.path.join(merged_graph_folder, 'merged-graph.png')\n",
    "plt.savefig(merged_graph_folder, transparent=True)\n",
    "print('Merged graph is at:', merged_graph_path)"
   ],
   "metadata": {
    "collapsed": false,
    "pycharm": {
     "name": "#%%\n"
    }
   }
  },
  {
   "cell_type": "markdown",
   "source": [
    "---\n",
    "### Add container to a network"
   ],
   "metadata": {
    "collapsed": false,
    "pycharm": {
     "name": "#%% md\n"
    }
   }
  },
  {
   "cell_type": "code",
   "execution_count": null,
   "outputs": [],
   "source": [
    "name = 'test'\n",
    "new_service = {'image': 'nginx', 'networks': ['db', 'backend']}\n",
    "\n",
    "merged_graph_layer[name] = new_service"
   ],
   "metadata": {
    "collapsed": false,
    "pycharm": {
     "name": "#%%\n"
    }
   }
  },
  {
   "cell_type": "markdown",
   "source": [
    "---\n",
    "### Delete container by name"
   ],
   "metadata": {
    "collapsed": false,
    "pycharm": {
     "name": "#%% md\n"
    }
   }
  },
  {
   "cell_type": "code",
   "execution_count": null,
   "outputs": [],
   "source": [
    "name = 'test'\n",
    "\n",
    "del merged_graph_layer[name]"
   ],
   "metadata": {
    "collapsed": false,
    "pycharm": {
     "name": "#%%\n"
    }
   }
  },
  {
   "cell_type": "markdown",
   "source": [
    "---\n",
    "### Generate honeypot defenses"
   ],
   "metadata": {
    "collapsed": false,
    "pycharm": {
     "name": "#%% md\n"
    }
   }
  },
  {
   "cell_type": "code",
   "execution_count": null,
   "outputs": [],
   "source": [
    "to = 'payment-db'\n",
    "minimum = 0\n",
    "path_counts = merged_graph_layer.gen_defence_list(to)"
   ],
   "metadata": {
    "collapsed": false,
    "pycharm": {
     "name": "#%%\n"
    }
   }
  },
  {
   "cell_type": "code",
   "execution_count": null,
   "outputs": [],
   "source": [
    "n1 = merged_graph_layer.node_probabilities.copy()\n",
    "merged_graph_layer.deploy_honeypot(path_counts, minimum)\n",
    "merged_graph_layer.compare_rates(n1, merged_graph_layer.node_probabilities)"
   ],
   "metadata": {
    "collapsed": false,
    "pycharm": {
     "name": "#%%\n"
    }
   }
  },
  {
   "cell_type": "markdown",
   "source": [
    "---\n",
    "### Generate example folders"
   ],
   "metadata": {
    "collapsed": false,
    "pycharm": {
     "name": "#%% md\n"
    }
   }
  },
  {
   "cell_type": "code",
   "execution_count": null,
   "outputs": [],
   "source": [
    "import compose_generator\n",
    "for rg in [1, 5, 10]:\n",
    "    compose_generator.generate_designed(rg)\n",
    "    compose_generator.generate_full_conn(rg)\n",
    "for rg in range(50, 1001, 50):\n",
    "    compose_generator.generate_designed(rg)\n",
    "    compose_generator.generate_full_conn(rg)"
   ],
   "metadata": {
    "collapsed": false,
    "pycharm": {
     "name": "#%%\n"
    }
   }
  }
 ],
 "metadata": {
  "kernelspec": {
   "display_name": "Python 3",
   "language": "python",
   "name": "python3"
  },
  "language_info": {
   "codemirror_mode": {
    "name": "ipython",
    "version": 2
   },
   "file_extension": ".py",
   "mimetype": "text/x-python",
   "name": "python",
   "nbconvert_exporter": "python",
   "pygments_lexer": "ipython2",
   "version": "2.7.6"
  }
 },
 "nbformat": 4,
 "nbformat_minor": 0
}