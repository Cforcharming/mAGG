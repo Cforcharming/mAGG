{
 "cells": [
  {
   "cell_type": "markdown",
   "source": [
    "---\n",
    "### Initial Configurations"
   ],
   "metadata": {
    "collapsed": false,
    "pycharm": {
     "name": "#%% md\n"
    }
   }
  },
  {
   "cell_type": "code",
   "execution_count": 1,
   "outputs": [
    {
     "name": "stdout",
     "output_type": "stream",
     "text": [
      "Reading NVD feed file: nvdcve-1.0-2007.json\n",
      "Reading NVD feed file: nvdcve-1.0-2011.json\n",
      "Reading NVD feed file: nvdcve-1.1-2021.json\n",
      "Reading NVD feed file: nvdcve-1.1-2020.json\n",
      "Reading NVD feed file: nvdcve-1.0-2010.json\n",
      "Reading NVD feed file: nvdcve-1.0-2006.json\n",
      "Reading NVD feed file: nvdcve-1.0-modified.json\n",
      "Reading NVD feed file: nvdcve-1.0-2017.json\n",
      "Reading NVD feed file: nvdcve-1.0-2016.json\n",
      "Reading NVD feed file: nvdcve-1.0-2015.json\n",
      "Reading NVD feed file: nvdcve-1.0-2003.json\n",
      "Reading NVD feed file: nvdcve-1.0-2002.json\n",
      "Reading NVD feed file: nvdcve-1.1-modified.json\n",
      "Reading NVD feed file: nvdcve-1.0-2014.json\n",
      "Reading NVD feed file: nvdcve-1.0-2018.json\n",
      "Reading NVD feed file: nvdcve-1.0-2013.json\n",
      "Reading NVD feed file: nvdcve-1.1-2019.json\n",
      "Reading NVD feed file: nvdcve-1.0-2005.json\n",
      "Reading NVD feed file: nvdcve-1.0-2009.json\n",
      "Reading NVD feed file: nvdcve-1.0-2008.json\n",
      "Reading NVD feed file: nvdcve-1.0-2004.json\n",
      "Reading NVD feed file: nvdcve-1.0-2012.json\n",
      "Reading NVD feed file: nvdcve-1.1-2022.json\n"
     ]
    }
   ],
   "source": [
    "import os\n",
    "import networkx as nx\n",
    "import matplotlib.pyplot as plt\n",
    "from concurrent.futures import ProcessPoolExecutor, ThreadPoolExecutor\n",
    "\n",
    "from parsers import vulnerability_parser, attack_graph_parser, topology_parser\n",
    "from compose_generator import generate_full_conn\n",
    "from mio import wrapper\n",
    "\n",
    "argv=['', 'designed/atsea']\n",
    "stat, config, examples, times = wrapper.init(argv)\n",
    "assert stat == 0\n",
    "\n",
    "t_executor = ThreadPoolExecutor()\n",
    "attack_vectors = vulnerability_parser.get_attack_vectors(config[\"attack-vector-folder-path\"], t_executor)\n",
    "example_folder, result_folder = wrapper.create_folders(argv[1], config)"
   ],
   "metadata": {
    "collapsed": false,
    "pycharm": {
     "name": "#%%\n"
    }
   }
  },
  {
   "cell_type": "markdown",
   "source": [
    "---\n",
    "### Parsing the topology of docker-compose file"
   ],
   "metadata": {
    "collapsed": false,
    "pycharm": {
     "name": "#%% md\n"
    }
   }
  },
  {
   "cell_type": "code",
   "execution_count": 24,
   "outputs": [
    {
     "name": "stdout",
     "output_type": "stream",
     "text": [
      "Topology parsing started.\n",
      "Time for parsing topology: 0.007607936859130859 seconds.\n"
     ]
    }
   ],
   "source": [
    "networks, services, gateway_nodes, dt = topology_parser.parse_topology(example_folder)\n",
    "\n",
    "networks: dict[str, dict[str, set]]\n",
    "services: dict[str, dict[str, ]]\n",
    "gateway_nodes: set[str]"
   ],
   "metadata": {
    "collapsed": false,
    "pycharm": {
     "name": "#%%\n"
    }
   }
  },
  {
   "cell_type": "markdown",
   "source": [
    "---\n",
    "### create topology in format of dictionary of lists"
   ],
   "metadata": {
    "collapsed": false,
    "pycharm": {
     "name": "#%% md\n"
    }
   }
  },
  {
   "cell_type": "code",
   "execution_count": 25,
   "outputs": [
    {
     "name": "stdout",
     "output_type": "stream",
     "text": [
      "Topology graph creation started.\n",
      "Time for creating topology graphs: 0.00030684471130371094 seconds.\n",
      "\n",
      "Time for generating topology: 0.00791478157043457 seconds.\n"
     ]
    }
   ],
   "source": [
    "topology_graph, gateway_graph, gateway_graph_labels, dg = topology_parser.create_graphs(networks, services)\n",
    "\n",
    "topology_graph: nx.Graph\n",
    "gateway_graph: nx.Graph\n",
    "gateway_graph_labels: dict[(str, str), str]\n",
    "\n",
    "print('\\nTime for generating topology:', dt + dg, 'seconds.')"
   ],
   "metadata": {
    "collapsed": false,
    "pycharm": {
     "name": "#%%\n"
    }
   }
  },
  {
   "cell_type": "markdown",
   "source": [
    "---\n",
    "### Parsing the vulnerabilities for each docker container"
   ],
   "metadata": {
    "collapsed": false,
    "pycharm": {
     "name": "#%% md\n"
    }
   }
  },
  {
   "cell_type": "code",
   "execution_count": 26,
   "outputs": [
    {
     "name": "stdout",
     "output_type": "stream",
     "text": [
      "Getting vulnerabilities in services started.\n",
      "Time for getting vulnerabilities in services: 0.023573875427246094 seconds.\n"
     ]
    }
   ],
   "source": [
    "stat, vulnerabilities, parsed_images, dv = vulnerability_parser.parse_vulnerabilities(example_folder, services)\n",
    "\n",
    "assert stat == 0\n",
    "\n",
    "vulnerabilities: dict[str, dict[str, ]]\n",
    "parsed_images: set[str]"
   ],
   "metadata": {
    "collapsed": false,
    "pycharm": {
     "name": "#%%\n"
    }
   }
  },
  {
   "cell_type": "markdown",
   "source": [
    "---\n",
    "### Merging the attack vector files and creating an attack vector dictionary."
   ],
   "metadata": {
    "collapsed": false,
    "pycharm": {
     "name": "#%% md\n"
    }
   }
  },
  {
   "cell_type": "code",
   "execution_count": 27,
   "outputs": [
    {
     "name": "stdout",
     "output_type": "stream",
     "text": [
      "Pre-processing vulnerabilities started.\n",
      "Total 62 vulnerabilities in service reverse_proxy\n",
      "Total 110 vulnerabilities in service database\n",
      "Total 10 vulnerabilities in service appserver\n",
      "Total 138 vulnerabilities in service payment-db\n",
      "Total 62 vulnerabilities in service payment_gateway\n",
      "Time for vulnerabilities pre-processing: 0.01599407196044922 seconds.\n",
      "\n",
      "Time for vulnerability parser module: 0.03956794738769531 seconds.\n"
     ]
    }
   ],
   "source": [
    "exploitable_vulnerabilities, dvp = vulnerability_parser.get_exploitable_vulnerabilities(\n",
    "    services, vulnerabilities, config[\"preconditions-rules\"], config[\"postconditions-rules\"], attack_vectors)\n",
    "\n",
    "exploitable_vulnerabilities: dict[str, dict[str, dict[str, int]]]\n",
    "\n",
    "print('\\nTime for vulnerability parser module:', dv + dvp, 'seconds.')"
   ],
   "metadata": {
    "collapsed": false,
    "pycharm": {
     "name": "#%%\n"
    }
   }
  },
  {
   "cell_type": "markdown",
   "source": [
    "---\n",
    "### Getting the attack graphs for each network"
   ],
   "metadata": {
    "collapsed": false,
    "pycharm": {
     "name": "#%% md\n"
    }
   }
  },
  {
   "cell_type": "code",
   "execution_count": null,
   "outputs": [],
   "source": [
    "executor = ProcessPoolExecutor()\n",
    "\n",
    "attack_graph, graph_labels, da = attack_graph_parser.\\\n",
    "    generate_attack_graph(networks, services, exploitable_vulnerabilities, executor)\n",
    "\n",
    "attack_graph: dict[str, nx.DiGraph]\n",
    "graph_labels: dict[str, dict[(str, str), str]]"
   ],
   "metadata": {
    "collapsed": false,
    "pycharm": {
     "name": "#%%\n"
    }
   }
  },
  {
   "cell_type": "markdown",
   "source": [
    "---\n",
    "### composing attack graphs"
   ],
   "metadata": {
    "collapsed": false,
    "pycharm": {
     "name": "#%% md\n"
    }
   }
  },
  {
   "cell_type": "code",
   "execution_count": null,
   "outputs": [],
   "source": [
    "composed_graph, composed_labels, dcg = attack_graph_parser.get_graph_compose(attack_graph, graph_labels)\n",
    "\n",
    "composed_graph: nx.DiGraph\n",
    "composed_labels: dict[(str, str), str]\n",
    "\n",
    "print('\\nTime for attack graph generating module:', da + dcg, 'seconds.')"
   ],
   "metadata": {
    "collapsed": false,
    "pycharm": {
     "name": "#%%\n"
    }
   }
  },
  {
   "cell_type": "markdown",
   "source": [
    "---\n",
    "### print summaries"
   ],
   "metadata": {
    "collapsed": false,
    "pycharm": {
     "name": "#%% md\n"
    }
   }
  },
  {
   "cell_type": "code",
   "execution_count": null,
   "outputs": [],
   "source": [
    "wrapper.print_summary(topology_graph.number_of_nodes(),\n",
    "                      topology_graph.number_of_edges(),\n",
    "                      composed_graph.number_of_nodes(),\n",
    "                      composed_graph.number_of_edges())"
   ],
   "metadata": {
    "collapsed": false,
    "pycharm": {
     "name": "#%%\n"
    }
   }
  },
  {
   "cell_type": "markdown",
   "source": [
    "---\n",
    "### change result folders"
   ],
   "metadata": {
    "collapsed": false,
    "pycharm": {
     "name": "#%% md\n"
    }
   }
  },
  {
   "cell_type": "code",
   "execution_count": null,
   "outputs": [],
   "source": [
    "times += 1"
   ],
   "metadata": {
    "collapsed": false,
    "pycharm": {
     "name": "#%%\n"
    }
   }
  },
  {
   "cell_type": "markdown",
   "source": [
    "---\n",
    "### draw topology graph"
   ],
   "metadata": {
    "collapsed": false,
    "pycharm": {
     "name": "#%% md\n"
    }
   }
  },
  {
   "cell_type": "code",
   "execution_count": 28,
   "outputs": [
    {
     "data": {
      "text/plain": "<Figure size 640x480 with 1 Axes>",
      "image/png": "[encoded data removed]"
     },
     "metadata": {},
     "output_type": "display_data"
    }
   ],
   "source": [
    "plt.axis(\"off\")\n",
    "pos = nx.spring_layout(topology_graph)\n",
    "nx.draw_networkx_nodes(topology_graph, pos)\n",
    "nx.draw_networkx_edges(topology_graph, pos)\n",
    "nx.draw_networkx_labels(topology_graph, pos)\n",
    "plt.show()"
   ],
   "metadata": {
    "collapsed": false,
    "pycharm": {
     "name": "#%%\n"
    }
   }
  },
  {
   "cell_type": "markdown",
   "source": [],
   "metadata": {
    "collapsed": false,
    "pycharm": {
     "name": "#%% md\n"
    }
   }
  },
  {
   "cell_type": "code",
   "execution_count": null,
   "outputs": [],
   "source": [
    "topology_graph_folder = os.path.join(result_folder, str(times))\n",
    "topology_graph_path = os.path.join(topology_graph_folder, 'topology-graph.png')\n",
    "plt.savefig(topology_graph_path, transparent=True)"
   ],
   "metadata": {
    "collapsed": false,
    "pycharm": {
     "name": "#%%\n"
    }
   }
  },
  {
   "cell_type": "markdown",
   "source": [
    "---\n",
    "### draw gateway graph"
   ],
   "metadata": {
    "collapsed": false,
    "pycharm": {
     "name": "#%% md\n"
    }
   }
  },
  {
   "cell_type": "code",
   "execution_count": 29,
   "outputs": [
    {
     "data": {
      "text/plain": "<Figure size 640x480 with 1 Axes>",
      "image/png": "[encoded data removed]"
     },
     "metadata": {},
     "output_type": "display_data"
    }
   ],
   "source": [
    "plt.axis(\"off\")\n",
    "pos = nx.spring_layout(gateway_graph)\n",
    "nx.draw_networkx_nodes(gateway_graph, pos)\n",
    "nx.draw_networkx_edges(gateway_graph, pos)\n",
    "nx.draw_networkx_labels(gateway_graph, pos)\n",
    "nx.draw_networkx_edge_labels(gateway_graph, pos, edge_labels=gateway_graph_labels)\n",
    "plt.show()"
   ],
   "metadata": {
    "collapsed": false,
    "pycharm": {
     "name": "#%%\n"
    }
   }
  },
  {
   "cell_type": "markdown",
   "source": [],
   "metadata": {
    "collapsed": false,
    "pycharm": {
     "name": "#%% md\n"
    }
   }
  },
  {
   "cell_type": "code",
   "execution_count": null,
   "outputs": [],
   "source": [
    "gateway_graph_folder = os.path.join(result_folder, str(times))\n",
    "gateway_graph_path = os.path.join(gateway_graph_folder, 'gateway-graph.png')\n",
    "plt.savefig(gateway_graph_path, transparent=True)"
   ],
   "metadata": {
    "collapsed": false,
    "pycharm": {
     "name": "#%%\n"
    }
   }
  },
  {
   "cell_type": "markdown",
   "source": [
    "---\n",
    "### Draw attack graph"
   ],
   "metadata": {
    "collapsed": false,
    "pycharm": {
     "name": "#%% md\n"
    }
   }
  },
  {
   "cell_type": "code",
   "execution_count": null,
   "outputs": [],
   "source": [
    "plt.axis(\"off\")\n",
    "pos = nx.spring_layout(composed_graph)\n",
    "nx.draw_networkx_nodes(composed_graph, pos)\n",
    "nx.draw_networkx_edges(composed_graph, pos)\n",
    "nx.draw_networkx_labels(composed_graph, pos)\n",
    "nx.draw_networkx_edge_labels(composed_graph, pos, edge_labels=composed_labels)\n",
    "plt.show()"
   ],
   "metadata": {
    "collapsed": false,
    "pycharm": {
     "name": "#%%\n"
    }
   }
  },
  {
   "cell_type": "code",
   "execution_count": null,
   "outputs": [],
   "source": [],
   "metadata": {
    "collapsed": false,
    "pycharm": {
     "name": "#%%\n"
    }
   }
  },
  {
   "cell_type": "markdown",
   "source": [
    "---\n",
    "### generate example folders of full connections"
   ],
   "metadata": {
    "collapsed": false,
    "pycharm": {
     "name": "#%% md\n"
    }
   }
  },
  {
   "cell_type": "code",
   "execution_count": null,
   "outputs": [],
   "source": [
    "x = list(range(50, 1001, 50))\n",
    "x.append([1, 5, 10])\n",
    "for j in x:\n",
    "    generate_full_conn(j)"
   ],
   "metadata": {
    "collapsed": false,
    "pycharm": {
     "name": "#%%\n"
    }
   }
  },
  {
   "cell_type": "markdown",
   "source": [
    "add container to a network"
   ],
   "metadata": {
    "collapsed": false,
    "pycharm": {
     "name": "#%% md\n"
    }
   }
  },
  {
   "cell_type": "markdown",
   "source": [
    "name = 'test'\n",
    "image = 'nginx'\n",
    "network = ['db', 'backend']\n",
    "\n",
    "wrappers.add_node(name, image, network, vulnerabilities, parsed_images, example_folder, networks, topology,\n",
    "         topology_graph, services, mapping_names, attack_vector_dict, config, nodes, edges,\n",
    "         passed_nodes, passed_edges, attack_graph)"
   ],
   "metadata": {
    "collapsed": false,
    "pycharm": {
     "name": "#%% md\n"
    }
   }
  },
  {
   "cell_type": "markdown",
   "source": [
    "\n",
    "delete container by name"
   ],
   "metadata": {
    "collapsed": false,
    "pycharm": {
     "name": "#%% md\n"
    }
   }
  },
  {
   "cell_type": "markdown",
   "source": [
    "name = 'test'\n",
    "wrappers.del_node(name, networks, topology, services, mapping_names, nodes, edges, passed_nodes, passed_edges, attack_graph)"
   ],
   "metadata": {
    "collapsed": false,
    "pycharm": {
     "name": "#%% md\n"
    }
   }
  },
  {
   "cell_type": "markdown",
   "source": [
    "\n",
    "add honeypot nodes"
   ],
   "metadata": {
    "collapsed": false,
    "pycharm": {
     "name": "#%% md\n"
    }
   }
  },
  {
   "cell_type": "markdown",
   "source": [
    "\n",
    "to = 'goal'\n",
    "minimum = 3\n",
    "\n",
    "path_counts = wrappers.gen_defence_list(attack_graph, to)\n",
    "wrappers.deploy_honeypot(path_counts, minimum, vulnerabilities, parsed_images, example_folder, networks,\n",
    "                         topology, topology_graph, services, mapping_names, attack_vector_dict, config,\n",
    "                         nodes, edges, passed_nodes, passed_edges, attack_graph)"
   ],
   "metadata": {
    "collapsed": false,
    "pycharm": {
     "name": "#%% md\n"
    }
   }
  },
  {
   "cell_type": "code",
   "execution_count": null,
   "outputs": [],
   "source": [],
   "metadata": {
    "collapsed": false,
    "pycharm": {
     "name": "#%%\n"
    }
   }
  }
 ],
 "metadata": {
  "kernelspec": {
   "display_name": "Python 3",
   "language": "python",
   "name": "python3"
  },
  "language_info": {
   "codemirror_mode": {
    "name": "ipython",
    "version": 2
   },
   "file_extension": ".py",
   "mimetype": "text/x-python",
   "name": "python",
   "nbconvert_exporter": "python",
   "pygments_lexer": "ipython2",
   "version": "2.7.6"
  }
 },
 "nbformat": 4,
 "nbformat_minor": 0
}