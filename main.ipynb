{
 "cells": [
  {
   "cell_type": "code",
   "execution_count": 1,
   "metadata": {
    "collapsed": true,
    "pycharm": {
     "name": "#%%\n"
    }
   },
   "outputs": [],
   "source": [
    "import networkx as nx\n",
    "import matplotlib.pyplot as plt\n",
    "from concurrent.futures import ProcessPoolExecutor\n",
    "\n",
    "from parsers import vulnerability_parser, attack_graph_parser, topology_parser\n",
    "from mio import wrappers\n",
    "\n",
    "__version__ = \"1.0-dev2\"\n",
    "\n",
    "argv=['', 'examples/full-conn/10-example']"
   ]
  },
  {
   "cell_type": "markdown",
   "source": [
    "\n",
    "Initial Configurations"
   ],
   "metadata": {
    "collapsed": false,
    "pycharm": {
     "name": "#%% md\n"
    }
   }
  },
  {
   "cell_type": "code",
   "execution_count": 2,
   "outputs": [],
   "source": [
    "stat, config, example_folder, result_folder, times = wrappers.init(argv)\n",
    "\n",
    "assert stat == 0"
   ],
   "metadata": {
    "collapsed": false,
    "pycharm": {
     "name": "#%%\n"
    }
   }
  },
  {
   "cell_type": "markdown",
   "source": [
    "\n",
    "Parsing the topology of docker-compose file"
   ],
   "metadata": {
    "collapsed": false,
    "pycharm": {
     "name": "#%% md\n"
    }
   }
  },
  {
   "cell_type": "code",
   "execution_count": 3,
   "outputs": [
    {
     "name": "stdout",
     "output_type": "stream",
     "text": [
      "Executing the topology parser...\n",
      "Time elapsed: 0.006116151809692383 seconds.\n",
      "\n"
     ]
    }
   ],
   "source": [
    "networks, services, gateway_nodes = topology_parser.parse_topology(example_folder)\n",
    "\n",
    "networks: dict[str, dict[str, set]]\n",
    "services: dict[str, dict[str, ]]\n",
    "gateway_nodes: set[str]"
   ],
   "metadata": {
    "collapsed": false,
    "pycharm": {
     "name": "#%%\n"
    }
   }
  },
  {
   "cell_type": "markdown",
   "source": [
    "\n",
    "create topology in format of dictionary of lists"
   ],
   "metadata": {
    "collapsed": false,
    "pycharm": {
     "name": "#%% md\n"
    }
   }
  },
  {
   "cell_type": "code",
   "execution_count": 4,
   "outputs": [],
   "source": [
    "topology_graph, gateway_graph, gateway_graph_labels = topology_parser.create_graphs(networks, services)\n",
    "\n",
    "topology_graph: nx.Graph\n",
    "gateway_graph: nx.Graph\n",
    "gateway_graph_labels: dict[(str, str), str]"
   ],
   "metadata": {
    "collapsed": false,
    "pycharm": {
     "name": "#%%\n"
    }
   }
  },
  {
   "cell_type": "code",
   "execution_count": 15,
   "outputs": [
    {
     "data": {
      "text/plain": "{('exposed', 'frontend'): Text(0.0, 0.0, 'tc')}"
     },
     "execution_count": 15,
     "metadata": {},
     "output_type": "execute_result"
    },
    {
     "data": {
      "text/plain": "<Figure size 640x480 with 1 Axes>",
      "image/png": "[encoded data removed]"
     },
     "metadata": {},
     "output_type": "display_data"
    },
    {
     "data": {
      "text/plain": "<Figure size 640x480 with 1 Axes>",
      "image/png": "[encoded data removed]"
     },
     "metadata": {},
     "output_type": "display_data"
    }
   ],
   "source": [
    "plt.axis(\"off\")\n",
    "\n",
    "plt.figure()\n",
    "pos = nx.spring_layout(gateway_graph)\n",
    "nx.draw_networkx_nodes(gateway_graph, pos)\n",
    "nx.draw_networkx_edges(gateway_graph, pos)\n",
    "nx.draw_networkx_labels(gateway_graph, pos)\n",
    "nx.draw_networkx_edge_labels(gateway_graph, pos, edge_labels=gateway_graph_labels)"
   ],
   "metadata": {
    "collapsed": false,
    "pycharm": {
     "name": "#%%\n"
    }
   }
  },
  {
   "cell_type": "markdown",
   "source": [
    "\n",
    "Parsing the vulnerabilities for each docker container"
   ],
   "metadata": {
    "collapsed": false,
    "pycharm": {
     "name": "#%% md\n"
    }
   }
  },
  {
   "cell_type": "code",
   "execution_count": 11,
   "outputs": [
    {
     "name": "stdout",
     "output_type": "stream",
     "text": [
      "Executing the vulnerability parser...\n",
      "Vulnerability parser executed.\n",
      "Time elapsed: 0.016881942749023438 seconds.\n",
      "\n"
     ]
    }
   ],
   "source": [
    "stat, vulnerabilities, parsed_images, duration_vulnerabilities = vulnerability_parser. \\\n",
    "        parse_vulnerabilities(example_folder, services)\n",
    "\n",
    "assert stat == 0\n",
    "\n",
    "vulnerabilities: dict[str, dict[str, ]]\n",
    "parsed_images: set[str]"
   ],
   "metadata": {
    "collapsed": false,
    "pycharm": {
     "name": "#%%\n"
    }
   }
  },
  {
   "cell_type": "markdown",
   "source": [
    "\n",
    "Merging the attack vector files and creating an attack vector dictionary."
   ],
   "metadata": {
    "collapsed": false,
    "pycharm": {
     "name": "#%% md\n"
    }
   }
  },
  {
   "cell_type": "code",
   "execution_count": 12,
   "outputs": [
    {
     "name": "stdout",
     "output_type": "stream",
     "text": [
      "Pre-processing vulnerabilitles...\n",
      "Total 129 vulnerabilities in container py1.\n",
      "Total 129 vulnerabilities in container py10.\n",
      "Total 129 vulnerabilities in container py2.\n",
      "Total 129 vulnerabilities in container py3.\n",
      "Total 129 vulnerabilities in container py4.\n",
      "Total 129 vulnerabilities in container py5.\n",
      "Total 129 vulnerabilities in container py6.\n",
      "Total 129 vulnerabilities in container py7.\n",
      "Total 129 vulnerabilities in container py8.\n",
      "Total 129 vulnerabilities in container py9.\n",
      "Total 138 vulnerabilities in container tc.\n",
      "Vulnerabilities preprocessing finished. Time elapsed: 37.21356010437012 seconds.\n",
      "\n"
     ]
    }
   ],
   "source": [
    "exploitable_vulnerabilities, dvp = attack_graph_parser.get_exploitable_vulnerabilities(\n",
    "        services, vulnerabilities, config[\"attack-vector-folder-path\"], config[\"preconditions-rules\"], config[\"postconditions-rules\"])\n",
    "\n",
    "exploitable_vulnerabilities: dict[str, dict[str, dict[str, int]]]"
   ],
   "metadata": {
    "collapsed": false,
    "pycharm": {
     "name": "#%%\n"
    }
   }
  },
  {
   "cell_type": "markdown",
   "source": [
    "\n",
    "Getting the attack graph nodes and edges from the attack paths."
   ],
   "metadata": {
    "collapsed": false,
    "pycharm": {
     "name": "#%% md\n"
    }
   }
  },
  {
   "cell_type": "code",
   "execution_count": 12,
   "outputs": [
    {
     "ename": "NameError",
     "evalue": "name 'topology' is not defined",
     "output_type": "error",
     "traceback": [
      "\u001B[0;31m---------------------------------------------------------------------------\u001B[0m",
      "\u001B[0;31mNameError\u001B[0m                                 Traceback (most recent call last)",
      "Input \u001B[0;32mIn [12]\u001B[0m, in \u001B[0;36m<cell line: 1>\u001B[0;34m()\u001B[0m\n\u001B[1;32m      1\u001B[0m nodes, edges, passed_nodes, passed_edges, duration_bdf \u001B[38;5;241m=\u001B[39m attack_graph_parser\u001B[38;5;241m.\u001B[39m\\\n\u001B[0;32m----> 2\u001B[0m     generate_attack_graph(\u001B[43mtopology\u001B[49m, exploitable_vulnerabilities)\n\u001B[1;32m      3\u001B[0m \u001B[38;5;28mprint\u001B[39m(\u001B[38;5;124m\"\u001B[39m\u001B[38;5;124mTime elapsed: \u001B[39m\u001B[38;5;124m\"\u001B[39m \u001B[38;5;241m+\u001B[39m \u001B[38;5;28mstr\u001B[39m(duration_bdf \u001B[38;5;241m+\u001B[39m dvp) \u001B[38;5;241m+\u001B[39m \u001B[38;5;124m\"\u001B[39m\u001B[38;5;124m seconds.\u001B[39m\u001B[38;5;130;01m\\n\u001B[39;00m\u001B[38;5;124m\"\u001B[39m)\n\u001B[1;32m      5\u001B[0m duration_graph_properties, attack_graph \u001B[38;5;241m=\u001B[39m attack_graph_parser\u001B[38;5;241m.\u001B[39m\\\n\u001B[1;32m      6\u001B[0m     print_graph_properties(config[\u001B[38;5;124m\"\u001B[39m\u001B[38;5;124mlabels_edges\u001B[39m\u001B[38;5;124m\"\u001B[39m], nodes, edges)\n",
      "\u001B[0;31mNameError\u001B[0m: name 'topology' is not defined"
     ]
    }
   ],
   "source": [
    "executor = ProcessPoolExecutor()\n",
    "\n",
    "nodes, edges, passed_nodes, passed_edges, duration_bdf = attack_graph_parser.\\\n",
    "        generate_attack_graph(networks, services, gateway_graph, exploitable_vulnerabilities, executor)\n",
    "\n",
    "print(\"Time elapsed: \" + str(duration_bdf + dvp) + \" seconds.\\n\")\n",
    "\n",
    "duration_graph_properties, attack_graph = attack_graph_parser. \\\n",
    "    print_graph_properties(config[\"labels_edges\"], nodes, edges)\n",
    "\n",
    "attack_graph: nx.DiGraph\n",
    "\n",
    "for element in edges.keys():\n",
    "    edges[element] = [edges[element][0]]\n"
   ],
   "metadata": {
    "collapsed": false,
    "pycharm": {
     "name": "#%%\n"
    }
   }
  },
  {
   "cell_type": "markdown",
   "source": [
    "\n",
    "Visualizing the attack graph"
   ],
   "metadata": {
    "collapsed": false,
    "pycharm": {
     "name": "#%% md\n"
    }
   }
  },
  {
   "cell_type": "code",
   "execution_count": null,
   "outputs": [],
   "source": [
    "\n",
    "\n",
    "time = wrappers.visualise(topology_graph, gateway_graph, gateway_graph_labels, attack_graph, result_folder, times)\n",
    "\n",
    "print(\"Time elapsed: \" + time + \" seconds.\\n\")\n",
    "\n",
    "times += 1"
   ],
   "metadata": {
    "collapsed": false,
    "pycharm": {
     "name": "#%%\n"
    }
   }
  },
  {
   "cell_type": "markdown",
   "source": [
    "\n",
    "Printing time summary of the attack graph generation.v"
   ],
   "metadata": {
    "collapsed": false,
    "pycharm": {
     "name": "#%% md\n"
    }
   }
  },
  {
   "cell_type": "code",
   "execution_count": null,
   "outputs": [],
   "source": [
    "wrappers.print_summary(topology_graph.number_of_nodes(),\n",
    "                               topology_graph.number_of_edges(),\n",
    "                               attack_graph.number_of_nodes(),\n",
    "                               attack_graph.number_of_edges())"
   ],
   "metadata": {
    "collapsed": false,
    "pycharm": {
     "name": "#%%\n"
    }
   }
  },
  {
   "cell_type": "markdown",
   "source": [
    "\n",
    "add container to a network"
   ],
   "metadata": {
    "collapsed": false,
    "pycharm": {
     "name": "#%% md\n"
    }
   }
  },
  {
   "cell_type": "markdown",
   "source": [
    "name = 'test'\n",
    "image = 'nginx'\n",
    "network = ['db', 'backend']\n",
    "\n",
    "wrappers.add_node(name, image, network, vulnerabilities, parsed_images, example_folder, networks, topology,\n",
    "         topology_graph, services, mapping_names, attack_vector_dict, config, nodes, edges,\n",
    "         passed_nodes, passed_edges, attack_graph)"
   ],
   "metadata": {
    "collapsed": false,
    "pycharm": {
     "name": "#%% md\n"
    }
   }
  },
  {
   "cell_type": "markdown",
   "source": [
    "\n",
    "delete container by name"
   ],
   "metadata": {
    "collapsed": false,
    "pycharm": {
     "name": "#%% md\n"
    }
   }
  },
  {
   "cell_type": "markdown",
   "source": [
    "name = 'test'\n",
    "wrappers.del_node(name, networks, topology, services, mapping_names, nodes, edges, passed_nodes, passed_edges, attack_graph)"
   ],
   "metadata": {
    "collapsed": false,
    "pycharm": {
     "name": "#%% md\n"
    }
   }
  },
  {
   "cell_type": "markdown",
   "source": [
    "\n",
    "add honeypot nodes"
   ],
   "metadata": {
    "collapsed": false,
    "pycharm": {
     "name": "#%% md\n"
    }
   }
  },
  {
   "cell_type": "markdown",
   "source": [
    "\n",
    "to = 'goal'\n",
    "minimum = 3\n",
    "\n",
    "path_counts = wrappers.gen_defence_list(attack_graph, to)\n",
    "wrappers.deploy_honeypot(path_counts, minimum, vulnerabilities, parsed_images, example_folder, networks,\n",
    "                         topology, topology_graph, services, mapping_names, attack_vector_dict, config,\n",
    "                         nodes, edges, passed_nodes, passed_edges, attack_graph)"
   ],
   "metadata": {
    "collapsed": false,
    "pycharm": {
     "name": "#%% md\n"
    }
   }
  },
  {
   "cell_type": "code",
   "execution_count": null,
   "outputs": [],
   "source": [],
   "metadata": {
    "collapsed": false,
    "pycharm": {
     "name": "#%%\n"
    }
   }
  }
 ],
 "metadata": {
  "kernelspec": {
   "display_name": "Python 3",
   "language": "python",
   "name": "python3"
  },
  "language_info": {
   "codemirror_mode": {
    "name": "ipython",
    "version": 2
   },
   "file_extension": ".py",
   "mimetype": "text/x-python",
   "name": "python",
   "nbconvert_exporter": "python",
   "pygments_lexer": "ipython2",
   "version": "2.7.6"
  }
 },
 "nbformat": 4,
 "nbformat_minor": 0
}