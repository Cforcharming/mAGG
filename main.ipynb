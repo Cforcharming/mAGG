{
 "cells": [
  {
   "cell_type": "markdown",
   "source": [
    "---\n",
    "### Initial Configurations"
   ],
   "metadata": {
    "collapsed": false,
    "pycharm": {
     "name": "#%% md\n"
    }
   }
  },
  {
   "cell_type": "code",
   "execution_count": null,
   "outputs": [],
   "source": [
    "import os\n",
    "import networkx as nx\n",
    "import matplotlib.pyplot as plt\n",
    "from concurrent.futures import ProcessPoolExecutor\n",
    "\n",
    "from parsers import vulnerability_parser, attack_graph_parser, topology_parser\n",
    "from compose_generator import generate_full_conn\n",
    "from mio import wrapper\n",
    "\n",
    "argv=['', 'designed/atsea']\n",
    "stat, config, examples, times = wrapper.init(argv)\n",
    "assert stat == 0\n",
    "\n",
    "executor = ProcessPoolExecutor(int(config['nums-of-processes']))\n",
    "\n",
    "attack_vectors = vulnerability_parser.get_attack_vectors(config[\"attack-vector-folder-path\"], executor)\n",
    "example_folder, result_folder = wrapper.create_folders(argv[1], config)"
   ],
   "metadata": {
    "collapsed": false,
    "pycharm": {
     "name": "#%%\n"
    }
   }
  },
  {
   "cell_type": "markdown",
   "source": [
    "---\n",
    "### Parsing the topology of docker-compose file"
   ],
   "metadata": {
    "collapsed": false,
    "pycharm": {
     "name": "#%% md\n"
    }
   }
  },
  {
   "cell_type": "code",
   "execution_count": null,
   "outputs": [],
   "source": [
    "networks, services, gateway_nodes, dt = topology_parser.parse_topology(example_folder)\n",
    "\n",
    "networks: dict[str, dict[str, set]]\n",
    "services: dict[str, dict[str, ]]\n",
    "gateway_nodes: set[str]"
   ],
   "metadata": {
    "collapsed": false,
    "pycharm": {
     "name": "#%%\n"
    }
   }
  },
  {
   "cell_type": "markdown",
   "source": [
    "---\n",
    "### create topology in format of dictionary of lists"
   ],
   "metadata": {
    "collapsed": false,
    "pycharm": {
     "name": "#%% md\n"
    }
   }
  },
  {
   "cell_type": "code",
   "execution_count": null,
   "outputs": [],
   "source": [
    "topology_graph, gateway_graph, gateway_graph_labels, dg = topology_parser.create_graphs(networks, services)\n",
    "\n",
    "topology_graph: nx.Graph\n",
    "gateway_graph: nx.Graph\n",
    "gateway_graph_labels: dict[(str, str), str]\n",
    "\n",
    "print('\\nTime for generating topology:', dt + dg, 'seconds.')"
   ],
   "metadata": {
    "collapsed": false,
    "pycharm": {
     "name": "#%%\n"
    }
   }
  },
  {
   "cell_type": "markdown",
   "source": [
    "---\n",
    "### Parsing the vulnerabilities for each docker container"
   ],
   "metadata": {
    "collapsed": false,
    "pycharm": {
     "name": "#%% md\n"
    }
   }
  },
  {
   "cell_type": "code",
   "execution_count": null,
   "outputs": [],
   "source": [
    "stat, vulnerabilities, parsed_images, dv = vulnerability_parser.parse_vulnerabilities(example_folder, services)\n",
    "\n",
    "assert stat == 0\n",
    "\n",
    "vulnerabilities: dict[str, dict[str, ]]\n",
    "parsed_images: set[str]"
   ],
   "metadata": {
    "collapsed": false,
    "pycharm": {
     "name": "#%%\n"
    }
   }
  },
  {
   "cell_type": "markdown",
   "source": [
    "---\n",
    "### Merging the attack vector files and creating an attack vector dictionary."
   ],
   "metadata": {
    "collapsed": false,
    "pycharm": {
     "name": "#%% md\n"
    }
   }
  },
  {
   "cell_type": "code",
   "execution_count": null,
   "outputs": [],
   "source": [
    "single: bool = config['labels_edges'] == 'single'\n",
    "\n",
    "exploitable_vulnerabilities, scores, dvp = vulnerability_parser.get_exploitable_vulnerabilities(\n",
    "    services, vulnerabilities, config[\"preconditions-rules\"], config[\"postconditions-rules\"], attack_vectors, single)\n",
    "\n",
    "exploitable_vulnerabilities: dict[str, dict[str, dict[str, int]]]\n",
    "scores: dict[str, int]\n",
    "\n",
    "print('\\nTime for vulnerability parser module:', dv + dvp, 'seconds.')"
   ],
   "metadata": {
    "collapsed": false,
    "pycharm": {
     "name": "#%%\n"
    }
   }
  },
  {
   "cell_type": "markdown",
   "source": [
    "---\n",
    "### Getting the attack graphs for each network"
   ],
   "metadata": {
    "collapsed": false,
    "pycharm": {
     "name": "#%% md\n"
    }
   }
  },
  {
   "cell_type": "code",
   "execution_count": null,
   "outputs": [],
   "source": [
    "attack_graph, graph_labels, da = attack_graph_parser.\\\n",
    "    generate_attack_graph(networks, services, exploitable_vulnerabilities, executor)\n",
    "\n",
    "attack_graph: dict[str, nx.DiGraph]\n",
    "graph_labels: dict[str, dict[(str, str), str]]"
   ],
   "metadata": {
    "collapsed": false,
    "pycharm": {
     "name": "#%%\n"
    }
   }
  },
  {
   "cell_type": "markdown",
   "source": [
    "---\n",
    "### Composing attack graphs"
   ],
   "metadata": {
    "collapsed": false,
    "pycharm": {
     "name": "#%% md\n"
    }
   }
  },
  {
   "cell_type": "code",
   "execution_count": null,
   "outputs": [],
   "source": [
    "composed_graph, composed_labels, dcg = attack_graph_parser.get_graph_compose(attack_graph, graph_labels)\n",
    "\n",
    "composed_graph: nx.DiGraph\n",
    "composed_labels: dict[(str, str), str]\n",
    "\n",
    "print('\\nTime for attack graph generating module:', da + dcg, 'seconds.')"
   ],
   "metadata": {
    "collapsed": false,
    "pycharm": {
     "name": "#%%\n"
    }
   }
  },
  {
   "cell_type": "markdown",
   "source": [
    "---\n",
    "### Print summaries"
   ],
   "metadata": {
    "collapsed": false,
    "pycharm": {
     "name": "#%% md\n"
    }
   }
  },
  {
   "cell_type": "code",
   "execution_count": null,
   "outputs": [],
   "source": [
    "wrapper.print_summary(topology_graph.number_of_nodes(),\n",
    "                      topology_graph.number_of_edges(),\n",
    "                      composed_graph.number_of_nodes(),\n",
    "                      composed_graph.number_of_edges())"
   ],
   "metadata": {
    "collapsed": false,
    "pycharm": {
     "name": "#%%\n"
    }
   }
  },
  {
   "cell_type": "markdown",
   "source": [
    "---\n",
    "### Change result folders"
   ],
   "metadata": {
    "collapsed": false,
    "pycharm": {
     "name": "#%% md\n"
    }
   }
  },
  {
   "cell_type": "code",
   "execution_count": null,
   "outputs": [],
   "source": [
    "times += 1"
   ],
   "metadata": {
    "collapsed": false,
    "pycharm": {
     "name": "#%%\n"
    }
   }
  },
  {
   "cell_type": "markdown",
   "source": [
    "---\n",
    "### draw topology graph"
   ],
   "metadata": {
    "collapsed": false,
    "pycharm": {
     "name": "#%% md\n"
    }
   }
  },
  {
   "cell_type": "code",
   "execution_count": null,
   "outputs": [],
   "source": [
    "plt.axis(\"off\")\n",
    "pos = nx.spring_layout(topology_graph)\n",
    "nx.draw_networkx_nodes(topology_graph, pos)\n",
    "nx.draw_networkx_edges(topology_graph, pos)\n",
    "nx.draw_networkx_labels(topology_graph, pos)\n",
    "plt.show()"
   ],
   "metadata": {
    "collapsed": false,
    "pycharm": {
     "name": "#%%\n"
    }
   }
  },
  {
   "cell_type": "markdown",
   "source": [
    "Save topology graph to file"
   ],
   "metadata": {
    "collapsed": false,
    "pycharm": {
     "name": "#%% md\n"
    }
   }
  },
  {
   "cell_type": "code",
   "execution_count": null,
   "outputs": [],
   "source": [
    "topology_graph_folder = os.path.join(result_folder, str(times))\n",
    "topology_graph_path = os.path.join(topology_graph_folder, 'topology-graph.png')\n",
    "plt.savefig(topology_graph_path, transparent=True)"
   ],
   "metadata": {
    "collapsed": false,
    "pycharm": {
     "name": "#%%\n"
    }
   }
  },
  {
   "cell_type": "markdown",
   "source": [
    "---\n",
    "### draw gateway graph"
   ],
   "metadata": {
    "collapsed": false,
    "pycharm": {
     "name": "#%% md\n"
    }
   }
  },
  {
   "cell_type": "code",
   "execution_count": null,
   "outputs": [],
   "source": [
    "plt.axis(\"off\")\n",
    "pos = nx.spring_layout(gateway_graph)\n",
    "nx.draw_networkx_nodes(gateway_graph, pos)\n",
    "nx.draw_networkx_edges(gateway_graph, pos)\n",
    "nx.draw_networkx_labels(gateway_graph, pos)\n",
    "nx.draw_networkx_edge_labels(gateway_graph, pos, edge_labels=gateway_graph_labels)\n",
    "plt.show()"
   ],
   "metadata": {
    "collapsed": false,
    "pycharm": {
     "name": "#%%\n"
    }
   }
  },
  {
   "cell_type": "markdown",
   "source": [
    "Save gateway graph to file"
   ],
   "metadata": {
    "collapsed": false,
    "pycharm": {
     "name": "#%% md\n"
    }
   }
  },
  {
   "cell_type": "code",
   "execution_count": null,
   "outputs": [],
   "source": [
    "gateway_graph_folder = os.path.join(result_folder, str(times))\n",
    "gateway_graph_path = os.path.join(gateway_graph_folder, 'gateway-graph.png')\n",
    "plt.savefig(gateway_graph_path, transparent=True)"
   ],
   "metadata": {
    "collapsed": false,
    "pycharm": {
     "name": "#%%\n"
    }
   }
  },
  {
   "cell_type": "markdown",
   "source": [
    "---\n",
    "### Draw attack graph"
   ],
   "metadata": {
    "collapsed": false,
    "pycharm": {
     "name": "#%% md\n"
    }
   }
  },
  {
   "cell_type": "code",
   "execution_count": null,
   "outputs": [],
   "source": [
    "plt.axis(\"off\")\n",
    "pos = nx.spring_layout(composed_graph)\n",
    "nx.draw_networkx_nodes(composed_graph, pos)\n",
    "nx.draw_networkx_edges(composed_graph, pos)\n",
    "nx.draw_networkx_labels(composed_graph, pos)\n",
    "nx.draw_networkx_edge_labels(composed_graph, pos, edge_labels=composed_labels)\n",
    "plt.show()"
   ],
   "metadata": {
    "collapsed": false,
    "pycharm": {
     "name": "#%%\n"
    }
   }
  },
  {
   "cell_type": "markdown",
   "source": [
    "Save attack graph to file"
   ],
   "metadata": {
    "collapsed": false,
    "pycharm": {
     "name": "#%% md\n"
    }
   }
  },
  {
   "cell_type": "code",
   "execution_count": null,
   "outputs": [],
   "source": [
    "composed_graph_folder = os.path.join(result_folder, str(times))\n",
    "composed_graph_path = os.path.join(composed_graph_folder, 'composed-graph.png')\n",
    "plt.savefig(composed_graph_path, transparent=True)"
   ],
   "metadata": {
    "collapsed": false,
    "pycharm": {
     "name": "#%%\n"
    }
   }
  },
  {
   "cell_type": "markdown",
   "source": [
    "---\n",
    "### Draw a sub graph"
   ],
   "metadata": {
    "collapsed": false,
    "pycharm": {
     "name": "#%% md\n"
    }
   }
  },
  {
   "cell_type": "code",
   "execution_count": null,
   "outputs": [],
   "source": [
    "plt.axis(\"off\")\n",
    "pos = nx.spring_layout(composed_graph)\n",
    "nx.draw_networkx_nodes(composed_graph, pos)\n",
    "nx.draw_networkx_edges(composed_graph, pos)\n",
    "nx.draw_networkx_labels(composed_graph, pos)\n",
    "nx.draw_networkx_edge_labels(composed_graph, pos, edge_labels=composed_labels)\n",
    "plt.show()"
   ],
   "metadata": {
    "collapsed": false,
    "pycharm": {
     "name": "#%%\n"
    }
   }
  },
  {
   "cell_type": "markdown",
   "source": [
    "Save sub graph to file"
   ],
   "metadata": {
    "collapsed": false,
    "pycharm": {
     "name": "#%% md\n"
    }
   }
  },
  {
   "cell_type": "code",
   "execution_count": null,
   "outputs": [],
   "source": [
    "composed_graph_folder = os.path.join(result_folder, str(times))\n",
    "composed_graph_path = os.path.join(composed_graph_folder, 'composed-graph.png')\n",
    "plt.savefig(composed_graph_path, transparent=True)"
   ],
   "metadata": {
    "collapsed": false,
    "pycharm": {
     "name": "#%%\n"
    }
   }
  },
  {
   "cell_type": "markdown",
   "source": [
    "---\n",
    "### Generate example folders of full connections"
   ],
   "metadata": {
    "collapsed": false,
    "pycharm": {
     "name": "#%% md\n"
    }
   }
  },
  {
   "cell_type": "code",
   "execution_count": null,
   "outputs": [],
   "source": [
    "x = list(range(50, 1001, 50))\n",
    "x.append([1, 5, 10])\n",
    "for j in x:\n",
    "    generate_full_conn(j)"
   ],
   "metadata": {
    "collapsed": false,
    "pycharm": {
     "name": "#%%\n"
    }
   }
  },
  {
   "cell_type": "markdown",
   "source": [
    "---\n",
    "### Add container to a network"
   ],
   "metadata": {
    "collapsed": false,
    "pycharm": {
     "name": "#%% md\n"
    }
   }
  },
  {
   "cell_type": "code",
   "execution_count": null,
   "outputs": [],
   "source": [
    "name = 'test'\n",
    "image = 'nginx'\n",
    "network = ['db', 'backend']\n",
    "\n",
    "wrapper.add_node(name, example_folder, networks, services, topology_graph, gateway_graph, gateway_nodes, attack_graph, graph_labels, executor, gateway_graph_labels, image, network, name, vulnerabilities, exploitable_vulnerabilities, scores, attack_vectors, parsed_images)\n",
    "\n",
    "attack_graph_parser.update_by_networks(networks, attack_graph, graph_labels, exploitable_vulnerabilities, executor, network)"
   ],
   "metadata": {
    "collapsed": false,
    "pycharm": {
     "name": "#%%\n"
    }
   }
  },
  {
   "cell_type": "markdown",
   "source": [
    "---\n",
    "### Delete container by name"
   ],
   "metadata": {
    "collapsed": false,
    "pycharm": {
     "name": "#%% md\n"
    }
   }
  },
  {
   "cell_type": "code",
   "execution_count": null,
   "outputs": [],
   "source": [
    "name = 'test'\n",
    "\n",
    "affected_networks = services[name]['networks']\n",
    "\n",
    "wrapper.del_node(networks, services, topology_graph, gateway_graph, attack_graph, graph_labels, executor, affected_networks, gateway_nodes, gateway_graph_labels, exploitable_vulnerabilities, name)"
   ],
   "metadata": {
    "collapsed": false,
    "pycharm": {
     "name": "#%%\n"
    }
   }
  },
  {
   "cell_type": "markdown",
   "source": [
    "---\n",
    "### Generate honeypot defenses"
   ],
   "metadata": {
    "collapsed": false,
    "pycharm": {
     "name": "#%% md\n"
    }
   }
  },
  {
   "cell_type": "code",
   "execution_count": null,
   "outputs": [],
   "source": [
    "to = 'goal'\n",
    "minimum = 3\n",
    "\n",
    "path_counts = wrapper.gen_defence_list(gateway_graph, to)\n",
    "\n",
    "wrapper.deploy_honeypot(config, example_folder, networks, services, topology_graph, gateway_graph, gateway_nodes, gateway_graph_labels, affected_networks, attack_graph, graph_labels, executor, vulnerabilities, exploitable_vulnerabilities, scores, parsed_images, attack_vectors, path_counts, minimum)"
   ],
   "metadata": {
    "collapsed": false,
    "pycharm": {
     "name": "#%%\n"
    }
   }
  },
  {
   "cell_type": "markdown",
   "source": [
    "---\n",
    "### Update attack graphs"
   ],
   "metadata": {
    "collapsed": false,
    "pycharm": {
     "name": "#%% md\n"
    }
   }
  },
  {
   "cell_type": "code",
   "execution_count": null,
   "outputs": [],
   "source": [
    "attack_graph_parser.update_by_networks(networks, attack_graph, graph_labels, exploitable_vulnerabilities, executor, affected_networks)"
   ],
   "metadata": {
    "collapsed": false,
    "pycharm": {
     "name": "#%%\n"
    }
   }
  }
 ],
 "metadata": {
  "kernelspec": {
   "display_name": "Python 3",
   "language": "python",
   "name": "python3"
  },
  "language_info": {
   "codemirror_mode": {
    "name": "ipython",
    "version": 2
   },
   "file_extension": ".py",
   "mimetype": "text/x-python",
   "name": "python",
   "nbconvert_exporter": "python",
   "pygments_lexer": "ipython2",
   "version": "2.7.6"
  }
 },
 "nbformat": 4,
 "nbformat_minor": 0
}