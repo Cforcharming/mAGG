{
 "cells": [
  {
   "cell_type": "code",
   "execution_count": 1,
   "outputs": [],
   "source": [
    "import os\n",
    "import networkx as nx\n",
    "import matplotlib.pyplot as plt\n",
    "from concurrent.futures import ProcessPoolExecutor\n",
    "\n",
    "from parsers import vulnerability_parser, attack_graph_parser, topology_parser\n",
    "from compose_generator import generate_full_conn\n",
    "from mio import wrapper\n",
    "\n",
    "argv=['', 'full-conn/10-example']"
   ],
   "metadata": {
    "collapsed": false,
    "pycharm": {
     "name": "#%%\n"
    }
   }
  },
  {
   "cell_type": "markdown",
   "source": [
    "---\n",
    "### Initial Configurations"
   ],
   "metadata": {
    "collapsed": false,
    "pycharm": {
     "name": "#%% md\n"
    }
   }
  },
  {
   "cell_type": "code",
   "execution_count": 2,
   "outputs": [
    {
     "name": "stdout",
     "output_type": "stream",
     "text": [
      "Reading NVD feed file: nvdcve-1.0-2007.json\n",
      "Reading NVD feed file: nvdcve-1.0-2011.json\n",
      "Reading NVD feed file: nvdcve-1.1-2021.json\n",
      "Reading NVD feed file: nvdcve-1.1-2020.json\n",
      "Reading NVD feed file: nvdcve-1.0-2010.json\n",
      "Reading NVD feed file: nvdcve-1.0-2006.json\n",
      "Reading NVD feed file: nvdcve-1.0-modified.json\n",
      "Reading NVD feed file: nvdcve-1.0-2017.json\n",
      "Reading NVD feed file: nvdcve-1.0-2016.json\n",
      "Reading NVD feed file: nvdcve-1.0-2015.json\n",
      "Reading NVD feed file: nvdcve-1.0-2003.json\n",
      "Reading NVD feed file: nvdcve-1.0-2002.json\n",
      "Reading NVD feed file: nvdcve-1.1-modified.json\n",
      "Reading NVD feed file: nvdcve-1.0-2014.json\n",
      "Reading NVD feed file: nvdcve-1.0-2018.json\n",
      "Reading NVD feed file: nvdcve-1.0-2013.json\n",
      "Reading NVD feed file: nvdcve-1.1-2019.json\n",
      "Reading NVD feed file: nvdcve-1.0-2005.json\n",
      "Reading NVD feed file: nvdcve-1.0-2009.json\n",
      "Reading NVD feed file: nvdcve-1.0-2008.json\n",
      "Reading NVD feed file: nvdcve-1.0-2004.json\n",
      "Reading NVD feed file: nvdcve-1.0-2012.json\n",
      "Reading NVD feed file: nvdcve-1.1-2022.json\n"
     ]
    }
   ],
   "source": [
    "stat, config, examples, times = wrapper.init(argv)\n",
    "assert stat == 0\n",
    "\n",
    "attack_vectors = vulnerability_parser.get_attack_vectors(config[\"attack-vector-folder-path\"])\n",
    "example_folder, result_folder = wrapper.create_folders(argv[1], config)"
   ],
   "metadata": {
    "collapsed": false,
    "pycharm": {
     "name": "#%%\n"
    }
   }
  },
  {
   "cell_type": "markdown",
   "source": [
    "---\n",
    "### Parsing the topology of docker-compose file"
   ],
   "metadata": {
    "collapsed": false,
    "pycharm": {
     "name": "#%% md\n"
    }
   }
  },
  {
   "cell_type": "code",
   "execution_count": 3,
   "outputs": [
    {
     "name": "stdout",
     "output_type": "stream",
     "text": [
      "Topology parsing started.\n",
      "Time for parsing topology: 0.00594019889831543 seconds.\n"
     ]
    }
   ],
   "source": [
    "networks, services, gateway_nodes, dt = topology_parser.parse_topology(example_folder)\n",
    "\n",
    "networks: dict[str, dict[str, set]]\n",
    "services: dict[str, dict[str, ]]\n",
    "gateway_nodes: set[str]"
   ],
   "metadata": {
    "collapsed": false,
    "pycharm": {
     "name": "#%%\n"
    }
   }
  },
  {
   "cell_type": "markdown",
   "source": [
    "---\n",
    "### create topology in format of dictionary of lists"
   ],
   "metadata": {
    "collapsed": false,
    "pycharm": {
     "name": "#%% md\n"
    }
   }
  },
  {
   "cell_type": "code",
   "execution_count": 4,
   "outputs": [
    {
     "name": "stdout",
     "output_type": "stream",
     "text": [
      "Topology graph creation started.\n",
      "Time for creating topology graphs: 0.0003039836883544922 seconds.\n",
      "\n",
      "Time for generating topology: 0.006244182586669922 seconds.\n"
     ]
    }
   ],
   "source": [
    "topology_graph, gateway_graph, gateway_graph_labels, dg = topology_parser.create_graphs(networks, services)\n",
    "\n",
    "topology_graph: nx.Graph\n",
    "gateway_graph: nx.Graph\n",
    "gateway_graph_labels: dict[(str, str), str]\n",
    "\n",
    "print('\\nTime for generating topology:', dt + dg, 'seconds.')"
   ],
   "metadata": {
    "collapsed": false,
    "pycharm": {
     "name": "#%%\n"
    }
   }
  },
  {
   "cell_type": "markdown",
   "source": [
    "---\n",
    "### Parsing the vulnerabilities for each docker container"
   ],
   "metadata": {
    "collapsed": false,
    "pycharm": {
     "name": "#%% md\n"
    }
   }
  },
  {
   "cell_type": "code",
   "execution_count": 13,
   "outputs": [
    {
     "name": "stdout",
     "output_type": "stream",
     "text": [
      "Getting vulnerabilities in services started.\n",
      "Time for getting vulnerabilities in services: 0.012170076370239258 seconds.\n"
     ]
    }
   ],
   "source": [
    "stat, vulnerabilities, dv = vulnerability_parser.parse_vulnerabilities(example_folder, services)\n",
    "\n",
    "assert stat == 0\n",
    "\n",
    "vulnerabilities: dict[str, dict[str, ]]\n",
    "parsed_images: set[str]"
   ],
   "metadata": {
    "collapsed": false,
    "pycharm": {
     "name": "#%%\n"
    }
   }
  },
  {
   "cell_type": "markdown",
   "source": [
    "---\n",
    "### Merging the attack vector files and creating an attack vector dictionary."
   ],
   "metadata": {
    "collapsed": false,
    "pycharm": {
     "name": "#%% md\n"
    }
   }
  },
  {
   "cell_type": "code",
   "execution_count": 14,
   "outputs": [
    {
     "name": "stdout",
     "output_type": "stream",
     "text": [
      "Pre-processing vulnerabilities started.\n",
      "Reading NVD feed file: nvdcve-1.0-2007.json\n",
      "Reading NVD feed file: nvdcve-1.0-2011.json\n",
      "Reading NVD feed file: nvdcve-1.1-2021.json\n",
      "Reading NVD feed file: nvdcve-1.1-2020.json\n",
      "Reading NVD feed file: nvdcve-1.0-2010.json\n",
      "Reading NVD feed file: nvdcve-1.0-2006.json\n",
      "Reading NVD feed file: nvdcve-1.0-modified.json\n",
      "Reading NVD feed file: nvdcve-1.0-2017.json\n",
      "Reading NVD feed file: nvdcve-1.0-2016.json\n",
      "Reading NVD feed file: nvdcve-1.0-2015.json\n",
      "Reading NVD feed file: nvdcve-1.0-2003.json\n",
      "Reading NVD feed file: nvdcve-1.0-2002.json\n",
      "Reading NVD feed file: nvdcve-1.1-modified.json\n",
      "Reading NVD feed file: nvdcve-1.0-2014.json\n",
      "Reading NVD feed file: nvdcve-1.0-2018.json\n",
      "Reading NVD feed file: nvdcve-1.0-2013.json\n",
      "Reading NVD feed file: nvdcve-1.1-2019.json\n",
      "Reading NVD feed file: nvdcve-1.0-2005.json\n",
      "Reading NVD feed file: nvdcve-1.0-2009.json\n",
      "Reading NVD feed file: nvdcve-1.0-2008.json\n",
      "Reading NVD feed file: nvdcve-1.0-2004.json\n",
      "Reading NVD feed file: nvdcve-1.0-2012.json\n",
      "Reading NVD feed file: nvdcve-1.1-2022.json\n",
      "Total 129 vulnerabilities in service py1\n",
      "Total 129 vulnerabilities in service py10\n",
      "Total 129 vulnerabilities in service py2\n",
      "Total 129 vulnerabilities in service py3\n",
      "Total 129 vulnerabilities in service py4\n",
      "Total 129 vulnerabilities in service py5\n",
      "Total 129 vulnerabilities in service py6\n",
      "Total 129 vulnerabilities in service py7\n",
      "Total 129 vulnerabilities in service py8\n",
      "Total 129 vulnerabilities in service py9\n",
      "Total 138 vulnerabilities in service tc\n",
      "Time for vulnerabilities pre-processing: 29.18429207801819 seconds.\n",
      "\n",
      "Time for vulnerability parser module: 29.196462154388428 seconds.\n"
     ]
    }
   ],
   "source": [
    "exploitable_vulnerabilities, dvp = vulnerability_parser.get_exploitable_vulnerabilities(\n",
    "    services, vulnerabilities, config[\"attack-vector-folder-path\"],\n",
    "    config[\"preconditions-rules\"], config[\"postconditions-rules\"])\n",
    "\n",
    "exploitable_vulnerabilities: dict[str, dict[str, dict[str, int]]]\n",
    "\n",
    "print('\\nTime for vulnerability parser module:', dv + dvp, 'seconds.')"
   ],
   "metadata": {
    "collapsed": false,
    "pycharm": {
     "name": "#%%\n"
    }
   }
  },
  {
   "cell_type": "markdown",
   "source": [
    "---\n",
    "### Getting the attack graphs for each network"
   ],
   "metadata": {
    "collapsed": false,
    "pycharm": {
     "name": "#%% md\n"
    }
   }
  },
  {
   "cell_type": "code",
   "execution_count": 15,
   "outputs": [
    {
     "name": "stdout",
     "output_type": "stream",
     "text": [
      "Attack graphs of subnets generation started.\n"
     ]
    },
    {
     "ename": "NotImplementedError",
     "evalue": "",
     "output_type": "error",
     "traceback": [
      "\u001B[0;31m---------------------------------------------------------------------------\u001B[0m",
      "\u001B[0;31mNotImplementedError\u001B[0m                       Traceback (most recent call last)",
      "Input \u001B[0;32mIn [15]\u001B[0m, in \u001B[0;36m<cell line: 3>\u001B[0;34m()\u001B[0m\n\u001B[1;32m      1\u001B[0m executor \u001B[38;5;241m=\u001B[39m ProcessPoolExecutor()\n\u001B[1;32m      3\u001B[0m attack_graph, graph_labels, da \u001B[38;5;241m=\u001B[39m \u001B[43mattack_graph_parser\u001B[49m\u001B[38;5;241;43m.\u001B[39;49m\u001B[43m\\\u001B[49m\n\u001B[0;32m----> 4\u001B[0m \u001B[43m    \u001B[49m\u001B[43mgenerate_attack_graph\u001B[49m\u001B[43m(\u001B[49m\u001B[43mnetworks\u001B[49m\u001B[43m,\u001B[49m\u001B[43m \u001B[49m\u001B[43mservices\u001B[49m\u001B[43m,\u001B[49m\u001B[43m \u001B[49m\u001B[43mexploitable_vulnerabilities\u001B[49m\u001B[43m,\u001B[49m\u001B[43m \u001B[49m\u001B[43mexecutor\u001B[49m\u001B[43m)\u001B[49m\n\u001B[1;32m      6\u001B[0m attack_graph: \u001B[38;5;28mdict\u001B[39m[\u001B[38;5;28mstr\u001B[39m, nx\u001B[38;5;241m.\u001B[39mDiGraph]\n\u001B[1;32m      7\u001B[0m graph_labels: \u001B[38;5;28mdict\u001B[39m[\u001B[38;5;28mstr\u001B[39m, \u001B[38;5;28mdict\u001B[39m[(\u001B[38;5;28mstr\u001B[39m, \u001B[38;5;28mstr\u001B[39m), \u001B[38;5;28mstr\u001B[39m]]\n",
      "File \u001B[0;32m~/Documents/JetBrainsProjects/PycharmProjects/mAGG/parsers/attack_graph_parser.py:29\u001B[0m, in \u001B[0;36mgenerate_attack_graph\u001B[0;34m(networks, services, exploitable_vulnerabilities, executor)\u001B[0m\n\u001B[1;32m     27\u001B[0m \u001B[38;5;28;01mfor\u001B[39;00m network \u001B[38;5;129;01min\u001B[39;00m networks:\n\u001B[1;32m     28\u001B[0m     gateways \u001B[38;5;241m=\u001B[39m networks[network][\u001B[38;5;124m'\u001B[39m\u001B[38;5;124mgateways\u001B[39m\u001B[38;5;124m'\u001B[39m]\n\u001B[0;32m---> 29\u001B[0m     sub_graph, sub_labels \u001B[38;5;241m=\u001B[39m \u001B[43mbreadth_first_search\u001B[49m\u001B[43m(\u001B[49m\u001B[43mservices\u001B[49m\u001B[43m,\u001B[49m\u001B[43m \u001B[49m\u001B[43mnetworks\u001B[49m\u001B[43m,\u001B[49m\u001B[43m \u001B[49m\u001B[43mgateways\u001B[49m\u001B[43m,\u001B[49m\u001B[43m \u001B[49m\u001B[43mexploitable_vulnerabilities\u001B[49m\u001B[43m)\u001B[49m\n\u001B[1;32m     30\u001B[0m     attack_graph[network] \u001B[38;5;241m=\u001B[39m sub_graph\n\u001B[1;32m     31\u001B[0m     graph_labels[network] \u001B[38;5;241m=\u001B[39m sub_labels\n",
      "File \u001B[0;32m~/Documents/JetBrainsProjects/PycharmProjects/mAGG/parsers/attack_graph_parser.py:74\u001B[0m, in \u001B[0;36mbreadth_first_search\u001B[0;34m(services, networks, gateways, exploitable_vulnerabilities)\u001B[0m\n\u001B[1;32m     70\u001B[0m \u001B[38;5;124;03m\"\"\"Breadth first search approach for generation of nodes and edges\u001B[39;00m\n\u001B[1;32m     71\u001B[0m \u001B[38;5;124;03mwithout generating attack paths.\"\"\"\u001B[39;00m\n\u001B[1;32m     73\u001B[0m \u001B[38;5;66;03m# TODO\u001B[39;00m\n\u001B[0;32m---> 74\u001B[0m \u001B[38;5;28;01mraise\u001B[39;00m \u001B[38;5;167;01mNotImplementedError\u001B[39;00m\n\u001B[1;32m     76\u001B[0m edges \u001B[38;5;241m=\u001B[39m {}\n\u001B[1;32m     77\u001B[0m nodes \u001B[38;5;241m=\u001B[39m {}\n",
      "\u001B[0;31mNotImplementedError\u001B[0m: "
     ]
    }
   ],
   "source": [
    "executor = ProcessPoolExecutor()\n",
    "\n",
    "attack_graph, graph_labels, da = attack_graph_parser.\\\n",
    "    generate_attack_graph(networks, services, exploitable_vulnerabilities, executor)\n",
    "\n",
    "attack_graph: dict[str, nx.DiGraph]\n",
    "graph_labels: dict[str, dict[(str, str), str]]"
   ],
   "metadata": {
    "collapsed": false,
    "pycharm": {
     "name": "#%%\n"
    }
   }
  },
  {
   "cell_type": "markdown",
   "source": [
    "---\n",
    "### composing attack graphs"
   ],
   "metadata": {
    "collapsed": false,
    "pycharm": {
     "name": "#%% md\n"
    }
   }
  },
  {
   "cell_type": "code",
   "execution_count": null,
   "outputs": [],
   "source": [
    "composed_graph, composed_labels, dcg = attack_graph_parser.get_graph_compose(attack_graph, graph_labels)\n",
    "\n",
    "composed_graph: nx.DiGraph\n",
    "composed_labels: dict[(str, str), str]\n",
    "\n",
    "print('\\nTime for attack graph generating module:', da + dcg, 'seconds.')"
   ],
   "metadata": {
    "collapsed": false,
    "pycharm": {
     "name": "#%%\n"
    }
   }
  },
  {
   "cell_type": "markdown",
   "source": [
    "---\n",
    "### print summaries"
   ],
   "metadata": {
    "collapsed": false,
    "pycharm": {
     "name": "#%% md\n"
    }
   }
  },
  {
   "cell_type": "code",
   "execution_count": null,
   "outputs": [],
   "source": [
    "wrapper.print_summary(topology_graph.number_of_nodes(),\n",
    "                      topology_graph.number_of_edges(),\n",
    "                      composed_graph.number_of_nodes(),\n",
    "                      composed_graph.number_of_edges())"
   ],
   "metadata": {
    "collapsed": false,
    "pycharm": {
     "name": "#%%\n"
    }
   }
  },
  {
   "cell_type": "markdown",
   "source": [
    "---\n",
    "### change result folders"
   ],
   "metadata": {
    "collapsed": false,
    "pycharm": {
     "name": "#%% md\n"
    }
   }
  },
  {
   "cell_type": "code",
   "execution_count": null,
   "outputs": [],
   "source": [
    "times += 1"
   ],
   "metadata": {
    "collapsed": false,
    "pycharm": {
     "name": "#%%\n"
    }
   }
  },
  {
   "cell_type": "markdown",
   "source": [
    "---\n",
    "### draw topology graph"
   ],
   "metadata": {
    "collapsed": false,
    "pycharm": {
     "name": "#%% md\n"
    }
   }
  },
  {
   "cell_type": "code",
   "execution_count": 20,
   "outputs": [
    {
     "data": {
      "text/plain": "<Figure size 640x480 with 1 Axes>",
      "image/png": "[encoded data removed]"
     },
     "metadata": {},
     "output_type": "display_data"
    }
   ],
   "source": [
    "plt.axis(\"off\")\n",
    "pos = nx.spring_layout(topology_graph)\n",
    "nx.draw_networkx_nodes(topology_graph, pos)\n",
    "nx.draw_networkx_edges(topology_graph, pos)\n",
    "nx.draw_networkx_labels(topology_graph, pos)\n",
    "plt.show()"
   ],
   "metadata": {
    "collapsed": false,
    "pycharm": {
     "name": "#%%\n"
    }
   }
  },
  {
   "cell_type": "markdown",
   "source": [],
   "metadata": {
    "collapsed": false,
    "pycharm": {
     "name": "#%% md\n"
    }
   }
  },
  {
   "cell_type": "code",
   "execution_count": null,
   "outputs": [],
   "source": [
    "topology_graph_folder = os.path.join(result_folder, str(times))\n",
    "topology_graph_path = os.path.join(topology_graph_folder, 'topology-graph.png')\n",
    "plt.savefig(topology_graph_path, transparent=True)"
   ],
   "metadata": {
    "collapsed": false,
    "pycharm": {
     "name": "#%%\n"
    }
   }
  },
  {
   "cell_type": "markdown",
   "source": [
    "---\n",
    "### draw gateway graph"
   ],
   "metadata": {
    "collapsed": false,
    "pycharm": {
     "name": "#%% md\n"
    }
   }
  },
  {
   "cell_type": "code",
   "execution_count": 17,
   "outputs": [
    {
     "data": {
      "text/plain": "<Figure size 640x480 with 1 Axes>",
      "image/png": "[encoded data removed]"
     },
     "metadata": {},
     "output_type": "display_data"
    },
    {
     "data": {
      "text/plain": "<Figure size 640x480 with 1 Axes>",
      "image/png": "[encoded data removed]"
     },
     "metadata": {},
     "output_type": "display_data"
    }
   ],
   "source": [
    "plt.axis(\"off\")\n",
    "pos = nx.spring_layout(gateway_graph)\n",
    "nx.draw_networkx_nodes(gateway_graph, pos)\n",
    "nx.draw_networkx_edges(gateway_graph, pos)\n",
    "nx.draw_networkx_labels(gateway_graph, pos)\n",
    "nx.draw_networkx_edge_labels(gateway_graph, pos, edge_labels=gateway_graph_labels)\n",
    "plt.show()"
   ],
   "metadata": {
    "collapsed": false,
    "pycharm": {
     "name": "#%%\n"
    }
   }
  },
  {
   "cell_type": "markdown",
   "source": [],
   "metadata": {
    "collapsed": false,
    "pycharm": {
     "name": "#%% md\n"
    }
   }
  },
  {
   "cell_type": "code",
   "execution_count": null,
   "outputs": [],
   "source": [
    "gateway_graph_folder = os.path.join(result_folder, str(times))\n",
    "gateway_graph_path = os.path.join(gateway_graph_folder, 'gateway-graph.png')\n",
    "plt.savefig(gateway_graph_path, transparent=True)"
   ],
   "metadata": {
    "collapsed": false,
    "pycharm": {
     "name": "#%%\n"
    }
   }
  },
  {
   "cell_type": "markdown",
   "source": [
    "---\n",
    "### Draw attack graph"
   ],
   "metadata": {
    "collapsed": false,
    "pycharm": {
     "name": "#%% md\n"
    }
   }
  },
  {
   "cell_type": "code",
   "execution_count": null,
   "outputs": [],
   "source": [
    "plt.axis(\"off\")\n",
    "pos = nx.spring_layout(composed_graph)\n",
    "nx.draw_networkx_nodes(composed_graph, pos)\n",
    "nx.draw_networkx_edges(composed_graph, pos)\n",
    "nx.draw_networkx_labels(composed_graph, pos)\n",
    "nx.draw_networkx_edge_labels(composed_graph, pos, edge_labels=composed_labels)\n",
    "plt.show()"
   ],
   "metadata": {
    "collapsed": false,
    "pycharm": {
     "name": "#%%\n"
    }
   }
  },
  {
   "cell_type": "code",
   "execution_count": null,
   "outputs": [],
   "source": [],
   "metadata": {
    "collapsed": false,
    "pycharm": {
     "name": "#%%\n"
    }
   }
  },
  {
   "cell_type": "markdown",
   "source": [
    "---\n",
    "### generate example folders of full connections"
   ],
   "metadata": {
    "collapsed": false,
    "pycharm": {
     "name": "#%% md\n"
    }
   }
  },
  {
   "cell_type": "code",
   "execution_count": null,
   "outputs": [],
   "source": [
    "x = list(range(50, 1001, 50))\n",
    "x.append([1, 5, 10])\n",
    "for j in x:\n",
    "    generate_full_conn(j)"
   ],
   "metadata": {
    "collapsed": false,
    "pycharm": {
     "name": "#%%\n"
    }
   }
  },
  {
   "cell_type": "markdown",
   "source": [
    "add container to a network"
   ],
   "metadata": {
    "collapsed": false,
    "pycharm": {
     "name": "#%% md\n"
    }
   }
  },
  {
   "cell_type": "markdown",
   "source": [
    "name = 'test'\n",
    "image = 'nginx'\n",
    "network = ['db', 'backend']\n",
    "\n",
    "wrappers.add_node(name, image, network, vulnerabilities, parsed_images, example_folder, networks, topology,\n",
    "         topology_graph, services, mapping_names, attack_vector_dict, config, nodes, edges,\n",
    "         passed_nodes, passed_edges, attack_graph)"
   ],
   "metadata": {
    "collapsed": false,
    "pycharm": {
     "name": "#%% md\n"
    }
   }
  },
  {
   "cell_type": "markdown",
   "source": [
    "\n",
    "delete container by name"
   ],
   "metadata": {
    "collapsed": false,
    "pycharm": {
     "name": "#%% md\n"
    }
   }
  },
  {
   "cell_type": "markdown",
   "source": [
    "name = 'test'\n",
    "wrappers.del_node(name, networks, topology, services, mapping_names, nodes, edges, passed_nodes, passed_edges, attack_graph)"
   ],
   "metadata": {
    "collapsed": false,
    "pycharm": {
     "name": "#%% md\n"
    }
   }
  },
  {
   "cell_type": "markdown",
   "source": [
    "\n",
    "add honeypot nodes"
   ],
   "metadata": {
    "collapsed": false,
    "pycharm": {
     "name": "#%% md\n"
    }
   }
  },
  {
   "cell_type": "markdown",
   "source": [
    "\n",
    "to = 'goal'\n",
    "minimum = 3\n",
    "\n",
    "path_counts = wrappers.gen_defence_list(attack_graph, to)\n",
    "wrappers.deploy_honeypot(path_counts, minimum, vulnerabilities, parsed_images, example_folder, networks,\n",
    "                         topology, topology_graph, services, mapping_names, attack_vector_dict, config,\n",
    "                         nodes, edges, passed_nodes, passed_edges, attack_graph)"
   ],
   "metadata": {
    "collapsed": false,
    "pycharm": {
     "name": "#%% md\n"
    }
   }
  },
  {
   "cell_type": "code",
   "execution_count": null,
   "outputs": [],
   "source": [],
   "metadata": {
    "collapsed": false,
    "pycharm": {
     "name": "#%%\n"
    }
   }
  }
 ],
 "metadata": {
  "kernelspec": {
   "display_name": "Python 3",
   "language": "python",
   "name": "python3"
  },
  "language_info": {
   "codemirror_mode": {
    "name": "ipython",
    "version": 2
   },
   "file_extension": ".py",
   "mimetype": "text/x-python",
   "name": "python",
   "nbconvert_exporter": "python",
   "pygments_lexer": "ipython2",
   "version": "2.7.6"
  }
 },
 "nbformat": 4,
 "nbformat_minor": 0
}