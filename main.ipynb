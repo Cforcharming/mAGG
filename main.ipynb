{
 "cells": [
  {
   "cell_type": "code",
   "execution_count": null,
   "metadata": {
    "collapsed": true,
    "pycharm": {
     "name": "#%%\n"
    }
   },
   "outputs": [],
   "source": [
    "import networkx as nx\n",
    "import matplotlib.pyplot as plt\n",
    "from concurrent.futures import ProcessPoolExecutor\n",
    "\n",
    "from parsers import vulnerability_parser, attack_graph_parser, topology_parser\n",
    "from compose_generator import generate_full_conn\n",
    "from mio import wrappers\n",
    "\n",
    "__version__ = \"1.0-dev2\"\n",
    "\n",
    "argv=['', 'examples/full-conn/10-example']"
   ]
  },
  {
   "cell_type": "markdown",
   "source": [
    "generate example folders of full connections"
   ],
   "metadata": {
    "collapsed": false,
    "pycharm": {
     "name": "#%% md\n"
    }
   }
  },
  {
   "cell_type": "code",
   "execution_count": null,
   "outputs": [],
   "source": [
    "x = list(range(50, 1001, 50))\n",
    "x.append([1, 5, 10])\n",
    "for j in x:\n",
    "    generate_full_conn(j)"
   ],
   "metadata": {
    "collapsed": false,
    "pycharm": {
     "name": "#%%\n"
    }
   }
  },
  {
   "cell_type": "markdown",
   "source": [
    "Initial Configurations"
   ],
   "metadata": {
    "collapsed": false,
    "pycharm": {
     "name": "#%% md\n"
    }
   }
  },
  {
   "cell_type": "code",
   "execution_count": null,
   "outputs": [],
   "source": [
    "stat, config, example_folder, result_folder, times = wrappers.init(argv)\n",
    "\n",
    "assert stat == 0"
   ],
   "metadata": {
    "collapsed": false,
    "pycharm": {
     "name": "#%%\n"
    }
   }
  },
  {
   "cell_type": "markdown",
   "source": [
    "Parsing the topology of docker-compose file"
   ],
   "metadata": {
    "collapsed": false,
    "pycharm": {
     "name": "#%% md\n"
    }
   }
  },
  {
   "cell_type": "code",
   "execution_count": null,
   "outputs": [],
   "source": [
    "networks, services, gateway_nodes, dt = topology_parser.parse_topology(example_folder)\n",
    "\n",
    "networks: dict[str, dict[str, set]]\n",
    "services: dict[str, dict[str, ]]\n",
    "gateway_nodes: set[str]"
   ],
   "metadata": {
    "collapsed": false,
    "pycharm": {
     "name": "#%%\n"
    }
   }
  },
  {
   "cell_type": "markdown",
   "source": [
    "\n",
    "create topology in format of dictionary of lists"
   ],
   "metadata": {
    "collapsed": false,
    "pycharm": {
     "name": "#%% md\n"
    }
   }
  },
  {
   "cell_type": "code",
   "execution_count": null,
   "outputs": [],
   "source": [
    "topology_graph, gateway_graph, gateway_graph_labels, dg = topology_parser.create_graphs(networks, services)\n",
    "\n",
    "topology_graph: nx.Graph\n",
    "gateway_graph: nx.Graph\n",
    "gateway_graph_labels: dict[(str, str), str]\n",
    "\n",
    "print('Time for generating topology:', dt + dg, 'seconds.')"
   ],
   "metadata": {
    "collapsed": false,
    "pycharm": {
     "name": "#%%\n"
    }
   }
  },
  {
   "cell_type": "code",
   "execution_count": null,
   "outputs": [],
   "source": [
    "plt.axis(\"off\")\n",
    "\n",
    "plt.figure()\n",
    "pos = nx.spring_layout(gateway_graph)\n",
    "nx.draw_networkx_nodes(gateway_graph, pos)\n",
    "nx.draw_networkx_edges(gateway_graph, pos)\n",
    "nx.draw_networkx_labels(gateway_graph, pos)\n",
    "nx.draw_networkx_edge_labels(gateway_graph, pos, edge_labels=gateway_graph_labels)\n",
    "plt.show()\n",
    "\n",
    "plt.figure()\n",
    "pos = nx.spring_layout(topology_graph)\n",
    "nx.draw_networkx_nodes(topology_graph, pos)\n",
    "nx.draw_networkx_edges(topology_graph, pos)\n",
    "nx.draw_networkx_labels(topology_graph, pos)\n",
    "plt.show()"
   ],
   "metadata": {
    "collapsed": false,
    "pycharm": {
     "name": "#%%\n"
    }
   }
  },
  {
   "cell_type": "markdown",
   "source": [
    "\n",
    "Parsing the vulnerabilities for each docker container"
   ],
   "metadata": {
    "collapsed": false,
    "pycharm": {
     "name": "#%% md\n"
    }
   }
  },
  {
   "cell_type": "code",
   "execution_count": null,
   "outputs": [],
   "source": [
    "stat, vulnerabilities, parsed_images, dv = vulnerability_parser. \\\n",
    "        parse_vulnerabilities(example_folder, services)\n",
    "\n",
    "assert stat == 0\n",
    "\n",
    "vulnerabilities: dict[str, dict[str, ]]\n",
    "parsed_images: set[str]"
   ],
   "metadata": {
    "collapsed": false,
    "pycharm": {
     "name": "#%%\n"
    }
   }
  },
  {
   "cell_type": "markdown",
   "source": [
    "\n",
    "Merging the attack vector files and creating an attack vector dictionary."
   ],
   "metadata": {
    "collapsed": false,
    "pycharm": {
     "name": "#%% md\n"
    }
   }
  },
  {
   "cell_type": "code",
   "execution_count": null,
   "outputs": [],
   "source": [
    "exploitable_vulnerabilities, dvp = vulnerability_parser.get_exploitable_vulnerabilities(\n",
    "        services, vulnerabilities, config[\"attack-vector-folder-path\"], config[\"preconditions-rules\"], config[\"postconditions-rules\"])\n",
    "\n",
    "exploitable_vulnerabilities: dict[str, dict[str, dict[str, int]]]\n",
    "\n",
    "print('Time for vulnerability parser module:', dv + dvp, 'seconds.')"
   ],
   "metadata": {
    "collapsed": false,
    "pycharm": {
     "name": "#%%\n"
    }
   }
  },
  {
   "cell_type": "markdown",
   "source": [
    "Getting the attack graph nodes and edges from the attack paths."
   ],
   "metadata": {
    "collapsed": false,
    "pycharm": {
     "name": "#%% md\n"
    }
   }
  },
  {
   "cell_type": "code",
   "execution_count": null,
   "outputs": [],
   "source": [
    "executor = ProcessPoolExecutor()\n",
    "\n",
    "attack_graph, da = attack_graph_parser.\\\n",
    "        generate_attack_graph(networks, services, exploitable_vulnerabilities, executor)\n",
    "\n",
    "composed_graph, dcg = attack_graph_parser.get_graph_compose(attack_graph)\n",
    "\n",
    "print(\"Time for attack graph generating module:\", da + dcg, \" seconds.\")\n",
    "\n",
    "attack_graph: dict[str, nx.DiGraph]"
   ],
   "metadata": {
    "collapsed": false,
    "pycharm": {
     "name": "#%%\n"
    }
   }
  },
  {
   "cell_type": "code",
   "execution_count": null,
   "outputs": [],
   "source": [
    "wrappers.print_summary(topology_graph.number_of_nodes(),\n",
    "                               topology_graph.number_of_edges(),\n",
    "                               composed_graph.number_of_nodes(),\n",
    "                               composed_graph.number_of_edges())"
   ],
   "metadata": {
    "collapsed": false,
    "pycharm": {
     "name": "#%%\n"
    }
   }
  },
  {
   "cell_type": "markdown",
   "source": [
    "\n",
    "add container to a network"
   ],
   "metadata": {
    "collapsed": false,
    "pycharm": {
     "name": "#%% md\n"
    }
   }
  },
  {
   "cell_type": "markdown",
   "source": [
    "name = 'test'\n",
    "image = 'nginx'\n",
    "network = ['db', 'backend']\n",
    "\n",
    "wrappers.add_node(name, image, network, vulnerabilities, parsed_images, example_folder, networks, topology,\n",
    "         topology_graph, services, mapping_names, attack_vector_dict, config, nodes, edges,\n",
    "         passed_nodes, passed_edges, attack_graph)"
   ],
   "metadata": {
    "collapsed": false,
    "pycharm": {
     "name": "#%% md\n"
    }
   }
  },
  {
   "cell_type": "markdown",
   "source": [
    "\n",
    "delete container by name"
   ],
   "metadata": {
    "collapsed": false,
    "pycharm": {
     "name": "#%% md\n"
    }
   }
  },
  {
   "cell_type": "markdown",
   "source": [
    "name = 'test'\n",
    "wrappers.del_node(name, networks, topology, services, mapping_names, nodes, edges, passed_nodes, passed_edges, attack_graph)"
   ],
   "metadata": {
    "collapsed": false,
    "pycharm": {
     "name": "#%% md\n"
    }
   }
  },
  {
   "cell_type": "markdown",
   "source": [
    "\n",
    "add honeypot nodes"
   ],
   "metadata": {
    "collapsed": false,
    "pycharm": {
     "name": "#%% md\n"
    }
   }
  },
  {
   "cell_type": "markdown",
   "source": [
    "\n",
    "to = 'goal'\n",
    "minimum = 3\n",
    "\n",
    "path_counts = wrappers.gen_defence_list(attack_graph, to)\n",
    "wrappers.deploy_honeypot(path_counts, minimum, vulnerabilities, parsed_images, example_folder, networks,\n",
    "                         topology, topology_graph, services, mapping_names, attack_vector_dict, config,\n",
    "                         nodes, edges, passed_nodes, passed_edges, attack_graph)"
   ],
   "metadata": {
    "collapsed": false,
    "pycharm": {
     "name": "#%% md\n"
    }
   }
  },
  {
   "cell_type": "code",
   "execution_count": null,
   "outputs": [],
   "source": [],
   "metadata": {
    "collapsed": false,
    "pycharm": {
     "name": "#%%\n"
    }
   }
  }
 ],
 "metadata": {
  "kernelspec": {
   "display_name": "Python 3",
   "language": "python",
   "name": "python3"
  },
  "language_info": {
   "codemirror_mode": {
    "name": "ipython",
    "version": 2
   },
   "file_extension": ".py",
   "mimetype": "text/x-python",
   "name": "python",
   "nbconvert_exporter": "python",
   "pygments_lexer": "ipython2",
   "version": "2.7.6"
  }
 },
 "nbformat": 4,
 "nbformat_minor": 0
}